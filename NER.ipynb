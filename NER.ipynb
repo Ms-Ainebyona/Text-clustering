{
  "nbformat": 4,
  "nbformat_minor": 0,
  "metadata": {
    "colab": {
      "provenance": [],
      "authorship_tag": "ABX9TyMRaW3W8Y1kZ5+GsvsIKqCj",
      "include_colab_link": true
    },
    "kernelspec": {
      "name": "python3",
      "display_name": "Python 3"
    },
    "language_info": {
      "name": "python"
    }
  },
  "cells": [
    {
      "cell_type": "markdown",
      "metadata": {
        "id": "view-in-github",
        "colab_type": "text"
      },
      "source": [
        "<a href=\"https://colab.research.google.com/github/Ms-Ainebyona/Text-clustering/blob/main/NER.ipynb\" target=\"_parent\"><img src=\"https://colab.research.google.com/assets/colab-badge.svg\" alt=\"Open In Colab\"/></a>"
      ]
    },
    {
      "cell_type": "code",
      "execution_count": 1,
      "metadata": {
        "id": "rMtg5syaeIob"
      },
      "outputs": [],
      "source": [
        "! pip install -U spacy -q"
      ]
    },
    {
      "cell_type": "code",
      "source": [
        "!python -m spacy info"
      ],
      "metadata": {
        "colab": {
          "base_uri": "https://localhost:8080/"
        },
        "id": "-zx3-QOXeYJ9",
        "outputId": "b6ce7dde-b0c2-4f85-ad9b-4eadc3287c27"
      },
      "execution_count": 2,
      "outputs": [
        {
          "output_type": "stream",
          "name": "stdout",
          "text": [
            "2022-09-15 12:32:53.003484: E tensorflow/stream_executor/cuda/cuda_driver.cc:271] failed call to cuInit: CUDA_ERROR_NO_DEVICE: no CUDA-capable device is detected\n",
            "\u001b[1m\n",
            "============================== Info about spaCy ==============================\u001b[0m\n",
            "\n",
            "spaCy version    3.4.1                         \n",
            "Location         /usr/local/lib/python3.7/dist-packages/spacy\n",
            "Platform         Linux-5.10.133+-x86_64-with-Ubuntu-18.04-bionic\n",
            "Python version   3.7.13                        \n",
            "Pipelines        en_core_web_sm (3.4.0)        \n",
            "\n"
          ]
        }
      ]
    },
    {
      "cell_type": "code",
      "source": [
        "import spacy\n",
        "from spacy.tokens import DocBin\n",
        "from tqdm import tqdm\n"
      ],
      "metadata": {
        "id": "vtiSmFiVeq4b"
      },
      "execution_count": 3,
      "outputs": []
    },
    {
      "cell_type": "code",
      "source": [
        "nlp=spacy.blank(\"en\")\n",
        "db=DocBin()"
      ],
      "metadata": {
        "id": "pNHySCHBfOGU"
      },
      "execution_count": 4,
      "outputs": []
    },
    {
      "cell_type": "code",
      "source": [
        "from google.colab import drive\n",
        "drive.mount('/content/drive')"
      ],
      "metadata": {
        "colab": {
          "base_uri": "https://localhost:8080/"
        },
        "id": "mpJ8yCPvgm2B",
        "outputId": "4e1cc5e7-dc8d-47e5-9e36-c71f9845a388"
      },
      "execution_count": 6,
      "outputs": [
        {
          "output_type": "stream",
          "name": "stdout",
          "text": [
            "Mounted at /content/drive\n"
          ]
        }
      ]
    },
    {
      "cell_type": "code",
      "source": [
        "with open('/content/drive/MyDrive/Colab Notebooks/NER/annotations.json', 'w') as f:\n",
        "  f.write('Hello Google Drive!')\n",
        "#!cat /content/drive/My Drive/Colab Notebooks/NER/annotations.json"
      ],
      "metadata": {
        "id": "-M_pd9d9kNz1"
      },
      "execution_count": 7,
      "outputs": []
    },
    {
      "cell_type": "code",
      "source": [
        "from google.colab import files\n",
        "files.upload()"
      ],
      "metadata": {
        "colab": {
          "resources": {
            "http://localhost:8080/nbextensions/google.colab/files.js": {
              "data": "Ly8gQ29weXJpZ2h0IDIwMTcgR29vZ2xlIExMQwovLwovLyBMaWNlbnNlZCB1bmRlciB0aGUgQXBhY2hlIExpY2Vuc2UsIFZlcnNpb24gMi4wICh0aGUgIkxpY2Vuc2UiKTsKLy8geW91IG1heSBub3QgdXNlIHRoaXMgZmlsZSBleGNlcHQgaW4gY29tcGxpYW5jZSB3aXRoIHRoZSBMaWNlbnNlLgovLyBZb3UgbWF5IG9idGFpbiBhIGNvcHkgb2YgdGhlIExpY2Vuc2UgYXQKLy8KLy8gICAgICBodHRwOi8vd3d3LmFwYWNoZS5vcmcvbGljZW5zZXMvTElDRU5TRS0yLjAKLy8KLy8gVW5sZXNzIHJlcXVpcmVkIGJ5IGFwcGxpY2FibGUgbGF3IG9yIGFncmVlZCB0byBpbiB3cml0aW5nLCBzb2Z0d2FyZQovLyBkaXN0cmlidXRlZCB1bmRlciB0aGUgTGljZW5zZSBpcyBkaXN0cmlidXRlZCBvbiBhbiAiQVMgSVMiIEJBU0lTLAovLyBXSVRIT1VUIFdBUlJBTlRJRVMgT1IgQ09ORElUSU9OUyBPRiBBTlkgS0lORCwgZWl0aGVyIGV4cHJlc3Mgb3IgaW1wbGllZC4KLy8gU2VlIHRoZSBMaWNlbnNlIGZvciB0aGUgc3BlY2lmaWMgbGFuZ3VhZ2UgZ292ZXJuaW5nIHBlcm1pc3Npb25zIGFuZAovLyBsaW1pdGF0aW9ucyB1bmRlciB0aGUgTGljZW5zZS4KCi8qKgogKiBAZmlsZW92ZXJ2aWV3IEhlbHBlcnMgZm9yIGdvb2dsZS5jb2xhYiBQeXRob24gbW9kdWxlLgogKi8KKGZ1bmN0aW9uKHNjb3BlKSB7CmZ1bmN0aW9uIHNwYW4odGV4dCwgc3R5bGVBdHRyaWJ1dGVzID0ge30pIHsKICBjb25zdCBlbGVtZW50ID0gZG9jdW1lbnQuY3JlYXRlRWxlbWVudCgnc3BhbicpOwogIGVsZW1lbnQudGV4dENvbnRlbnQgPSB0ZXh0OwogIGZvciAoY29uc3Qga2V5IG9mIE9iamVjdC5rZXlzKHN0eWxlQXR0cmlidXRlcykpIHsKICAgIGVsZW1lbnQuc3R5bGVba2V5XSA9IHN0eWxlQXR0cmlidXRlc1trZXldOwogIH0KICByZXR1cm4gZWxlbWVudDsKfQoKLy8gTWF4IG51bWJlciBvZiBieXRlcyB3aGljaCB3aWxsIGJlIHVwbG9hZGVkIGF0IGEgdGltZS4KY29uc3QgTUFYX1BBWUxPQURfU0laRSA9IDEwMCAqIDEwMjQ7CgpmdW5jdGlvbiBfdXBsb2FkRmlsZXMoaW5wdXRJZCwgb3V0cHV0SWQpIHsKICBjb25zdCBzdGVwcyA9IHVwbG9hZEZpbGVzU3RlcChpbnB1dElkLCBvdXRwdXRJZCk7CiAgY29uc3Qgb3V0cHV0RWxlbWVudCA9IGRvY3VtZW50LmdldEVsZW1lbnRCeUlkKG91dHB1dElkKTsKICAvLyBDYWNoZSBzdGVwcyBvbiB0aGUgb3V0cHV0RWxlbWVudCB0byBtYWtlIGl0IGF2YWlsYWJsZSBmb3IgdGhlIG5leHQgY2FsbAogIC8vIHRvIHVwbG9hZEZpbGVzQ29udGludWUgZnJvbSBQeXRob24uCiAgb3V0cHV0RWxlbWVudC5zdGVwcyA9IHN0ZXBzOwoKICByZXR1cm4gX3VwbG9hZEZpbGVzQ29udGludWUob3V0cHV0SWQpOwp9CgovLyBUaGlzIGlzIHJvdWdobHkgYW4gYXN5bmMgZ2VuZXJhdG9yIChub3Qgc3VwcG9ydGVkIGluIHRoZSBicm93c2VyIHlldCksCi8vIHdoZXJlIHRoZXJlIGFyZSBtdWx0aXBsZSBhc3luY2hyb25vdXMgc3RlcHMgYW5kIHRoZSBQeXRob24gc2lkZSBpcyBnb2luZwovLyB0byBwb2xsIGZvciBjb21wbGV0aW9uIG9mIGVhY2ggc3RlcC4KLy8gVGhpcyB1c2VzIGEgUHJvbWlzZSB0byBibG9jayB0aGUgcHl0aG9uIHNpZGUgb24gY29tcGxldGlvbiBvZiBlYWNoIHN0ZXAsCi8vIHRoZW4gcGFzc2VzIHRoZSByZXN1bHQgb2YgdGhlIHByZXZpb3VzIHN0ZXAgYXMgdGhlIGlucHV0IHRvIHRoZSBuZXh0IHN0ZXAuCmZ1bmN0aW9uIF91cGxvYWRGaWxlc0NvbnRpbnVlKG91dHB1dElkKSB7CiAgY29uc3Qgb3V0cHV0RWxlbWVudCA9IGRvY3VtZW50LmdldEVsZW1lbnRCeUlkKG91dHB1dElkKTsKICBjb25zdCBzdGVwcyA9IG91dHB1dEVsZW1lbnQuc3RlcHM7CgogIGNvbnN0IG5leHQgPSBzdGVwcy5uZXh0KG91dHB1dEVsZW1lbnQubGFzdFByb21pc2VWYWx1ZSk7CiAgcmV0dXJuIFByb21pc2UucmVzb2x2ZShuZXh0LnZhbHVlLnByb21pc2UpLnRoZW4oKHZhbHVlKSA9PiB7CiAgICAvLyBDYWNoZSB0aGUgbGFzdCBwcm9taXNlIHZhbHVlIHRvIG1ha2UgaXQgYXZhaWxhYmxlIHRvIHRoZSBuZXh0CiAgICAvLyBzdGVwIG9mIHRoZSBnZW5lcmF0b3IuCiAgICBvdXRwdXRFbGVtZW50Lmxhc3RQcm9taXNlVmFsdWUgPSB2YWx1ZTsKICAgIHJldHVybiBuZXh0LnZhbHVlLnJlc3BvbnNlOwogIH0pOwp9CgovKioKICogR2VuZXJhdG9yIGZ1bmN0aW9uIHdoaWNoIGlzIGNhbGxlZCBiZXR3ZWVuIGVhY2ggYXN5bmMgc3RlcCBvZiB0aGUgdXBsb2FkCiAqIHByb2Nlc3MuCiAqIEBwYXJhbSB7c3RyaW5nfSBpbnB1dElkIEVsZW1lbnQgSUQgb2YgdGhlIGlucHV0IGZpbGUgcGlja2VyIGVsZW1lbnQuCiAqIEBwYXJhbSB7c3RyaW5nfSBvdXRwdXRJZCBFbGVtZW50IElEIG9mIHRoZSBvdXRwdXQgZGlzcGxheS4KICogQHJldHVybiB7IUl0ZXJhYmxlPCFPYmplY3Q+fSBJdGVyYWJsZSBvZiBuZXh0IHN0ZXBzLgogKi8KZnVuY3Rpb24qIHVwbG9hZEZpbGVzU3RlcChpbnB1dElkLCBvdXRwdXRJZCkgewogIGNvbnN0IGlucHV0RWxlbWVudCA9IGRvY3VtZW50LmdldEVsZW1lbnRCeUlkKGlucHV0SWQpOwogIGlucHV0RWxlbWVudC5kaXNhYmxlZCA9IGZhbHNlOwoKICBjb25zdCBvdXRwdXRFbGVtZW50ID0gZG9jdW1lbnQuZ2V0RWxlbWVudEJ5SWQob3V0cHV0SWQpOwogIG91dHB1dEVsZW1lbnQuaW5uZXJIVE1MID0gJyc7CgogIGNvbnN0IHBpY2tlZFByb21pc2UgPSBuZXcgUHJvbWlzZSgocmVzb2x2ZSkgPT4gewogICAgaW5wdXRFbGVtZW50LmFkZEV2ZW50TGlzdGVuZXIoJ2NoYW5nZScsIChlKSA9PiB7CiAgICAgIHJlc29sdmUoZS50YXJnZXQuZmlsZXMpOwogICAgfSk7CiAgfSk7CgogIGNvbnN0IGNhbmNlbCA9IGRvY3VtZW50LmNyZWF0ZUVsZW1lbnQoJ2J1dHRvbicpOwogIGlucHV0RWxlbWVudC5wYXJlbnRFbGVtZW50LmFwcGVuZENoaWxkKGNhbmNlbCk7CiAgY2FuY2VsLnRleHRDb250ZW50ID0gJ0NhbmNlbCB1cGxvYWQnOwogIGNvbnN0IGNhbmNlbFByb21pc2UgPSBuZXcgUHJvbWlzZSgocmVzb2x2ZSkgPT4gewogICAgY2FuY2VsLm9uY2xpY2sgPSAoKSA9PiB7CiAgICAgIHJlc29sdmUobnVsbCk7CiAgICB9OwogIH0pOwoKICAvLyBXYWl0IGZvciB0aGUgdXNlciB0byBwaWNrIHRoZSBmaWxlcy4KICBjb25zdCBmaWxlcyA9IHlpZWxkIHsKICAgIHByb21pc2U6IFByb21pc2UucmFjZShbcGlja2VkUHJvbWlzZSwgY2FuY2VsUHJvbWlzZV0pLAogICAgcmVzcG9uc2U6IHsKICAgICAgYWN0aW9uOiAnc3RhcnRpbmcnLAogICAgfQogIH07CgogIGNhbmNlbC5yZW1vdmUoKTsKCiAgLy8gRGlzYWJsZSB0aGUgaW5wdXQgZWxlbWVudCBzaW5jZSBmdXJ0aGVyIHBpY2tzIGFyZSBub3QgYWxsb3dlZC4KICBpbnB1dEVsZW1lbnQuZGlzYWJsZWQgPSB0cnVlOwoKICBpZiAoIWZpbGVzKSB7CiAgICByZXR1cm4gewogICAgICByZXNwb25zZTogewogICAgICAgIGFjdGlvbjogJ2NvbXBsZXRlJywKICAgICAgfQogICAgfTsKICB9CgogIGZvciAoY29uc3QgZmlsZSBvZiBmaWxlcykgewogICAgY29uc3QgbGkgPSBkb2N1bWVudC5jcmVhdGVFbGVtZW50KCdsaScpOwogICAgbGkuYXBwZW5kKHNwYW4oZmlsZS5uYW1lLCB7Zm9udFdlaWdodDogJ2JvbGQnfSkpOwogICAgbGkuYXBwZW5kKHNwYW4oCiAgICAgICAgYCgke2ZpbGUudHlwZSB8fCAnbi9hJ30pIC0gJHtmaWxlLnNpemV9IGJ5dGVzLCBgICsKICAgICAgICBgbGFzdCBtb2RpZmllZDogJHsKICAgICAgICAgICAgZmlsZS5sYXN0TW9kaWZpZWREYXRlID8gZmlsZS5sYXN0TW9kaWZpZWREYXRlLnRvTG9jYWxlRGF0ZVN0cmluZygpIDoKICAgICAgICAgICAgICAgICAgICAgICAgICAgICAgICAgICAgJ24vYSd9IC0gYCkpOwogICAgY29uc3QgcGVyY2VudCA9IHNwYW4oJzAlIGRvbmUnKTsKICAgIGxpLmFwcGVuZENoaWxkKHBlcmNlbnQpOwoKICAgIG91dHB1dEVsZW1lbnQuYXBwZW5kQ2hpbGQobGkpOwoKICAgIGNvbnN0IGZpbGVEYXRhUHJvbWlzZSA9IG5ldyBQcm9taXNlKChyZXNvbHZlKSA9PiB7CiAgICAgIGNvbnN0IHJlYWRlciA9IG5ldyBGaWxlUmVhZGVyKCk7CiAgICAgIHJlYWRlci5vbmxvYWQgPSAoZSkgPT4gewogICAgICAgIHJlc29sdmUoZS50YXJnZXQucmVzdWx0KTsKICAgICAgfTsKICAgICAgcmVhZGVyLnJlYWRBc0FycmF5QnVmZmVyKGZpbGUpOwogICAgfSk7CiAgICAvLyBXYWl0IGZvciB0aGUgZGF0YSB0byBiZSByZWFkeS4KICAgIGxldCBmaWxlRGF0YSA9IHlpZWxkIHsKICAgICAgcHJvbWlzZTogZmlsZURhdGFQcm9taXNlLAogICAgICByZXNwb25zZTogewogICAgICAgIGFjdGlvbjogJ2NvbnRpbnVlJywKICAgICAgfQogICAgfTsKCiAgICAvLyBVc2UgYSBjaHVua2VkIHNlbmRpbmcgdG8gYXZvaWQgbWVzc2FnZSBzaXplIGxpbWl0cy4gU2VlIGIvNjIxMTU2NjAuCiAgICBsZXQgcG9zaXRpb24gPSAwOwogICAgZG8gewogICAgICBjb25zdCBsZW5ndGggPSBNYXRoLm1pbihmaWxlRGF0YS5ieXRlTGVuZ3RoIC0gcG9zaXRpb24sIE1BWF9QQVlMT0FEX1NJWkUpOwogICAgICBjb25zdCBjaHVuayA9IG5ldyBVaW50OEFycmF5KGZpbGVEYXRhLCBwb3NpdGlvbiwgbGVuZ3RoKTsKICAgICAgcG9zaXRpb24gKz0gbGVuZ3RoOwoKICAgICAgY29uc3QgYmFzZTY0ID0gYnRvYShTdHJpbmcuZnJvbUNoYXJDb2RlLmFwcGx5KG51bGwsIGNodW5rKSk7CiAgICAgIHlpZWxkIHsKICAgICAgICByZXNwb25zZTogewogICAgICAgICAgYWN0aW9uOiAnYXBwZW5kJywKICAgICAgICAgIGZpbGU6IGZpbGUubmFtZSwKICAgICAgICAgIGRhdGE6IGJhc2U2NCwKICAgICAgICB9LAogICAgICB9OwoKICAgICAgbGV0IHBlcmNlbnREb25lID0gZmlsZURhdGEuYnl0ZUxlbmd0aCA9PT0gMCA/CiAgICAgICAgICAxMDAgOgogICAgICAgICAgTWF0aC5yb3VuZCgocG9zaXRpb24gLyBmaWxlRGF0YS5ieXRlTGVuZ3RoKSAqIDEwMCk7CiAgICAgIHBlcmNlbnQudGV4dENvbnRlbnQgPSBgJHtwZXJjZW50RG9uZX0lIGRvbmVgOwoKICAgIH0gd2hpbGUgKHBvc2l0aW9uIDwgZmlsZURhdGEuYnl0ZUxlbmd0aCk7CiAgfQoKICAvLyBBbGwgZG9uZS4KICB5aWVsZCB7CiAgICByZXNwb25zZTogewogICAgICBhY3Rpb246ICdjb21wbGV0ZScsCiAgICB9CiAgfTsKfQoKc2NvcGUuZ29vZ2xlID0gc2NvcGUuZ29vZ2xlIHx8IHt9OwpzY29wZS5nb29nbGUuY29sYWIgPSBzY29wZS5nb29nbGUuY29sYWIgfHwge307CnNjb3BlLmdvb2dsZS5jb2xhYi5fZmlsZXMgPSB7CiAgX3VwbG9hZEZpbGVzLAogIF91cGxvYWRGaWxlc0NvbnRpbnVlLAp9Owp9KShzZWxmKTsK",
              "ok": true,
              "headers": [
                [
                  "content-type",
                  "application/javascript"
                ]
              ],
              "status": 200,
              "status_text": ""
            }
          },
          "base_uri": "https://localhost:8080/",
          "height": 1000
        },
        "id": "kbkHBip7LvCH",
        "outputId": "6a8493b0-7c1c-415d-e4a8-02902588a977"
      },
      "execution_count": 8,
      "outputs": [
        {
          "output_type": "display_data",
          "data": {
            "text/plain": [
              "<IPython.core.display.HTML object>"
            ],
            "text/html": [
              "\n",
              "     <input type=\"file\" id=\"files-b48e6d15-19f1-4368-84a4-46a1dd0c2a39\" name=\"files[]\" multiple disabled\n",
              "        style=\"border:none\" />\n",
              "     <output id=\"result-b48e6d15-19f1-4368-84a4-46a1dd0c2a39\">\n",
              "      Upload widget is only available when the cell has been executed in the\n",
              "      current browser session. Please rerun this cell to enable.\n",
              "      </output>\n",
              "      <script src=\"/nbextensions/google.colab/files.js\"></script> "
            ]
          },
          "metadata": {}
        },
        {
          "output_type": "stream",
          "name": "stdout",
          "text": [
            "Saving annotations-data.json to annotations-data.json\n"
          ]
        },
        {
          "output_type": "execute_result",
          "data": {
            "text/plain": [
              "{'annotations-data.json': b'{\"classes\":[\"GPE\",\"DATE\",\"CURRENCY\",\"FIGURE\",\"LOCATION\",\"PERSON\",\"ORG\",\"PERCENTAGE\",\"APPLICATIONS\",\"ELECTRONICS\",\"INSTITUITIONS\",\"ANIMAL\",\"FOOD\",\"WEEK DAY\",\"MONTH\",\"PEOPLE\",\"YEAR\",\"DAY\",\"REGION\",\"PROGRAM\",\"COURSE\",\"SKILL\",\"TIME\",\"PERIOD\",\"COMMENT\",\"GADGET\",\"COLLEGE\",\"FURNITURE\",\"SHELTER\",\"WEATHER CONDITION\"],\"annotations\":[[\"Faith has exhibited enthusiasm in taking on the project at hand. She has already shown promising signs in understanding the core concepts of software engineering. I look forward discovering more as time goes on.\\\\r\",{\"entities\":[[0,9,\"PERSON\"],[65,72,\"PERSON\"],[141,162,\"PROGRAM\"]]}],[\"He now has now understood the structure of grails and how different components relate. Understands the process of getting API\\'s from MTN\\\\r\",{\"entities\":[[0,10,\"PERSON\"],[122,125,\"APPLICATIONS\"],[133,136,\"ORG\"]]}],[\"The Intern was oriented on ICT setup and Infrastructure of Soroti University, drafted workplan and started off the Internship. Simon was encouraged to take the Internship seriously as there was a lot to learn.\\\\r\",{\"entities\":[[4,10,\"PERSON\"],[27,30,\"PROGRAM\"],[59,76,\"INSTITUITIONS\"],[115,126,\"PROGRAM\"],[127,132,\"PERSON\"]]}],[\"The student was oriented on the organization structure, developed workplan for the 4 week internship and participated in assessment of printers for servicing.  He acquired both technical and teamwork skills at workplace.\\\\r\",{\"entities\":[[4,11,\"PERSON\"],[83,84,\"FIGURE\"],[85,89,\"PERIOD\"],[90,100,\"PROGRAM\"],[160,162,\"PERSON\"]]}],[\"finished on time\\\\r\",{\"entities\":[[9,16,\"TIME\"]]}],[\"The student\\'s weekly progress was justifiably good, characterized with enthusiasm to learning more.\\\\r\",{\"entities\":[[0,11,\"PERSON\"],[46,50,\"COMMENT\"]]}],[\"Makerere University, Uganda, Kenya, Rwanda, USA, Prof. Turyagyenda, Doctor Tusiime, Isingiro\\\\r\",{\"entities\":[[0,19,\"INSTITUITIONS\"],[21,27,\"GPE\"],[29,35,\"GPE\"],[36,42,\"GPE\"],[44,47,\"GPE\"],[49,66,\"PERSON\"],[68,82,\"PERSON\"],[84,92,\"LOCATION\"]]}],[\"Makerere University, Uganda, Kenya, Rwanda, USA, Prof. Turyagyenda, Doctor Tusiime, Isingiro\\\\r\",{\"entities\":[[0,19,\"INSTITUITIONS\"],[21,47,\"GPE\"],[49,82,\"PERSON\"],[84,92,\"LOCATION\"]]}],[\"Makerere University, Uganda, Kenya, Rwanda, USA, Prof. Turyagyenda, Doctor Tusiime, Isingiro\\\\r\",{\"entities\":[[0,19,\"INSTITUITIONS\"],[21,48,\"GPE\"],[49,82,\"PERSON\"],[84,92,\"LOCATION\"]]}],[\"Makerere University, Uganda, Kenya, Rwanda, USA, Prof. Turyagyenda, Doctor Tusiime, Isingiro\\\\r\",{\"entities\":[[0,19,\"INSTITUITIONS\"],[21,47,\"GPE\"],[49,66,\"PERSON\"],[68,82,\"PERSON\"],[84,92,\"PERSON\"]]}],[\"Makerere University, Uganda, Kenya, Rwanda, USA, Prof. Turyagyenda, Doctor Tusiime, Isingiro\\\\r\",{\"entities\":[[0,19,\"INSTITUITIONS\"],[21,27,\"GPE\"],[29,34,\"GPE\"],[36,42,\"GPE\"],[44,47,\"GPE\"],[49,54,\"PERSON\"],[55,66,\"PERSON\"],[68,82,\"PERSON\"],[84,92,\"LOCATION\"]]}],[\"Makerere University, Uganda, Kenya, Rwanda, USA, Prof. Turyagyenda, Doctor Tusiime, Isingiro\\\\r\",{\"entities\":[[0,19,\"INSTITUITIONS\"],[21,27,\"GPE\"],[29,34,\"GPE\"],[36,42,\"GPE\"],[44,47,\"GPE\"],[49,54,\"PERSON\"],[55,66,\"PERSON\"],[68,82,\"PERSON\"],[84,92,\"LOCATION\"]]}],[\"Makerere University, Uganda, Kenya, Rwanda, USA, Prof. Turyagyenda, Doctor Tusiime, Isingiro.\\\\r\",{\"entities\":[[0,19,\"INSTITUITIONS\"],[21,27,\"GPE\"],[29,34,\"GPE\"],[36,42,\"GPE\"],[44,47,\"GPE\"],[49,66,\"GPE\"],[68,82,\"GPE\"],[84,92,\"LOCATION\"]]}],[\"COSCIS, CONAS, Makerere, Students, Kyomugisha Rose, Komugisha rose, Tumushabe Stephen, tumushabe stephen, Maiga Peter\\\\r\",{\"entities\":[[0,6,\"COLLEGE\"],[8,13,\"COLLEGE\"],[15,23,\"INSTITUITIONS\"],[25,33,\"PERSON\"],[35,50,\"PERSON\"],[52,61,\"PERSON\"],[62,66,\"PERSON\"],[68,85,\"PERSON\"],[85,96,\"PERSON\"],[97,104,\"PERSON\"],[106,117,\"PERSON\"]]}],[\"COSCIS, CONAS, Makerere, Students, Kyomugisha Rose, Komugisha rose, Tumushabe Stephen, tumushabe stephen, Maiga Peter\\\\r\",{\"entities\":[[0,6,\"COLLEGE\"],[8,13,\"COLLEGE\"],[15,23,\"INSTITUITIONS\"],[25,33,\"PEOPLE\"],[35,50,\"PERSON\"],[52,66,\"PERSON\"],[68,77,\"PERSON\"],[78,85,\"PERSON\"],[87,104,\"PERSON\"],[106,117,\"PERSON\"]]}],[\"COSCIS, CONAS, Makerere, Students, Kyomugisha Rose, Komugisha rose, Tumushabe Stephen, tumushabe stephen, Maiga Peter\\\\r\",{\"entities\":[[0,6,\"COLLEGE\"],[8,13,\"COLLEGE\"],[15,23,\"INSTITUITIONS\"],[25,33,\"PEOPLE\"],[35,50,\"PERSON\"],[50,51,\"PERSON\"],[52,66,\"PERSON\"],[68,85,\"PERSON\"],[87,104,\"PERSON\"],[106,117,\"PERSON\"]]}],[\"COSCIS, CONAS, Makerere, Students, Kyomugisha Rose, Komugisha rose, Tumushabe Stephen, tumushabe stephen, Maiga Peter\\\\r\",{\"entities\":[[0,6,\"COLLEGE\"],[8,13,\"COLLEGE\"],[15,23,\"INSTITUITIONS\"],[25,33,\"PEOPLE\"],[35,45,\"PERSON\"],[46,50,\"PERSON\"],[52,61,\"PERSON\"],[62,66,\"PERSON\"],[68,77,\"PERSON\"],[78,85,\"PERSON\"],[85,96,\"PERSON\"],[97,104,\"PERSON\"],[106,111,\"PERSON\"],[112,117,\"PERSON\"]]}],[\"COSCIS, CONAS, Makerere, Students, Kyomugisha Rose, Komugisha rose, Tumushabe Stephen, tumushabe stephen, Maiga Peter\\\\r\",{\"entities\":[[0,6,\"COLLEGE\"],[8,13,\"COLLEGE\"],[15,23,\"INSTITUITIONS\"],[25,33,\"PEOPLE\"],[35,45,\"PERSON\"],[46,50,\"PERSON\"],[52,61,\"PERSON\"],[62,66,\"PERSON\"],[68,77,\"PERSON\"],[78,85,\"PERSON\"],[87,96,\"PERSON\"],[97,104,\"PERSON\"],[106,111,\"PERSON\"],[112,117,\"PERSON\"]]}],[\"She found this very interesting as she was able to identify, know problems associated an his to overcome them.\\\\r\",{\"entities\":[[0,3,\"PERSON\"],[35,38,\"PERSON\"],[89,92,\"PERSON\"]]}],[\"Partially done, expected a better result based on Steven\\'s experienced. More effort needed ...\\\\r\",{\"entities\":[[27,40,\"COMMENT\"],[50,58,\"PERSON\"]]}],[\"Done to partial satisfaction. Hopefully learning points were picked.\\\\r\",{\"entities\":[[5,29,\"COMMENT\"]]}],[\"He faced some problem of identifying the symbols, and other parts but he asked questions and made an effort to learn. Very good\\\\r\",{\"entities\":[[0,2,\"PERSON\"],[70,72,\"PERSON\"],[118,127,\"COMMENT\"]]}],[\"This activity took some time to be completed, but it was completed to my satisfaction.\\\\r\",{\"entities\":[[70,72,\"PERSON\"]]}],[\"He knows the requirements of how and his to install, setting up a network and managing it.\\\\r\",{\"entities\":[[0,2,\"PERSON\"],[37,40,\"PERSON\"]]}],[\"A little delays and constant supervision. The task has been finally completed, and reviewed by the line supervisor. Good job Mahad.\\\\r\",{\"entities\":[[55,77,\"COMMENT\"],[104,115,\"PERSON\"],[116,124,\"COMMENT\"],[125,130,\"PERSON\"]]}],[\"He seemed not to have an idea about setting up a structured network but now I know he can do a lot more\\\\r\",{\"entities\":[[0,2,\"PERSON\"],[76,77,\"PERSON\"],[83,85,\"PERSON\"]]}],[\"Student learnt and demonstrated system administration skill by creating emails for drivers, performed data backups, and troubleshooting of computer hardware and local area network.\\\\r\",{\"entities\":[[0,7,\"PERSON\"],[63,90,\"SKILL\"],[92,114,\"SKILL\"],[120,135,\"SKILL\"]]}],[\"Davis, Conrad, Einstein, Flavia, house, garden, rain, sunny, weather, Morning, Evening, Night, chair, table, laptop, smart phone, Austria, England, USA, 400USD\\\\r\",{\"entities\":[[0,5,\"PERSON\"],[7,13,\"PERSON\"],[15,23,\"PERSON\"],[25,31,\"PERSON\"],[33,38,\"SHELTER\"],[48,52,\"WEATHER CONDITION\"],[54,59,\"WEATHER CONDITION\"],[61,68,\"WEATHER CONDITION\"],[70,77,\"TIME\"],[79,86,\"TIME\"],[88,93,\"TIME\"],[95,100,\"FURNITURE\"],[102,107,\"FURNITURE\"],[109,115,\"GADGET\"],[117,128,\"GADGET\"],[130,137,\"GPE\"],[139,146,\"GPE\"],[148,151,\"GPE\"],[153,159,\"CURRENCY\"]]}],[\"The following table shows the 100 most popular given names for male and female babies born during the last 100 years, 1922-2021. For each rank and sex, the table shows the name and the number of occurrences of that name. These time-tested popular names were taken from a universe that includes 177,238,032 male births and 172,053,794 female births.\\\\r\",{\"entities\":[[30,33,\"FIGURE\"],[63,67,\"PERSON\"],[68,78,\"PERSON\"],[79,85,\"PERSON\"],[107,110,\"FIGURE\"],[111,116,\"YEAR\"],[118,128,\"YEAR\"],[294,305,\"FIGURE\"],[306,310,\"PERSON\"],[322,333,\"FIGURE\"],[334,340,\"PERSON\"]]}],[\"Please note that popular names listed below are not necessarily consistently popular in every year. For example, the name James, ranked as the most popular male name over the last 100 years, has been ranked as low as number 19. Similarly, the most popular female name in the table, Mary, ranked as low as 133.\\\\r\",{\"entities\":[[113,127,\"PERSON\"],[180,189,\"YEAR\"],[217,227,\"FIGURE\"],[256,267,\"PERSON\"],[280,286,\"PERSON\"],[305,308,\"FIGURE\"]]}],[\"Popular names for births in 1922-2021\\\\r\",{\"entities\":[[28,37,\"YEAR\"]]}],[\"Males\\\\tFemales\\\\r\",{\"entities\":[[6,13,\"PERSON\"]]}],[\"1\\\\tJames\\\\t4,663,035\\\\tMary\\\\t3,124,584\\\\r\",{\"entities\":[[0,1,\"FIGURE\"],[2,7,\"PERSON\"],[8,17,\"FIGURE\"],[18,22,\"PERSON\"],[23,32,\"FIGURE\"]]}],[\"2\\\\tRobert\\\\t4,407,377\\\\tPatricia\\\\t1,555,054\\\\r\",{\"entities\":[[0,1,\"FIGURE\"],[2,8,\"PERSON\"],[9,18,\"FIGURE\"],[19,27,\"PERSON\"],[28,37,\"FIGURE\"]]}],[\"3\\\\tJohn\\\\t4,403,862\\\\tJennifer\\\\t1,469,031\\\\r\",{\"entities\":[[2,6,\"PERSON\"],[7,16,\"FIGURE\"],[17,25,\"PERSON\"],[26,35,\"FIGURE\"]]}],[\"4\\\\tMichael\\\\t4,340,931\\\\tLinda\\\\t1,448,283\\\\r\",{\"entities\":[[0,1,\"FIGURE\"],[2,9,\"PERSON\"],[10,19,\"FIGURE\"],[20,25,\"PERSON\"],[26,35,\"FIGURE\"]]}],[\"5\\\\tDavid\\\\t3,564,313\\\\tElizabeth\\\\t1,411,916\\\\r\",{\"entities\":[[0,1,\"FIGURE\"],[2,7,\"PERSON\"],[8,17,\"FIGURE\"],[18,27,\"PERSON\"],[28,37,\"FIGURE\"]]}],[\"6\\\\tWilliam\\\\t3,524,670\\\\tBarbara\\\\t1,391,959\\\\r\",{\"entities\":[[0,1,\"FIGURE\"],[2,9,\"PERSON\"],[10,19,\"FIGURE\"],[20,27,\"PERSON\"],[28,37,\"FIGURE\"]]}],[\"7\\\\tRichard\\\\t2,439,835\\\\tSusan\\\\t1,103,018\\\\r\",{\"entities\":[[0,1,\"FIGURE\"],[2,9,\"PERSON\"],[10,19,\"FIGURE\"],[20,25,\"PERSON\"],[26,35,\"FIGURE\"]]}],[\"8\\\\tJoseph\\\\t2,317,860\\\\tJessica\\\\t1,047,000\\\\r\",{\"entities\":[[0,1,\"FIGURE\"],[2,8,\"PERSON\"],[9,18,\"FIGURE\"],[19,26,\"PERSON\"],[27,36,\"FIGURE\"]]}],[\"9\\\\tThomas\\\\t2,143,281\\\\tSarah\\\\t989,810\\\\r\",{\"entities\":[[0,1,\"FIGURE\"],[2,8,\"PERSON\"],[9,18,\"FIGURE\"],[19,24,\"PERSON\"],[25,32,\"FIGURE\"]]}],[\"10\\\\tCharles\\\\t2,060,835\\\\tKaren\\\\t986,072\\\\r\",{\"entities\":[[0,2,\"FIGURE\"],[3,10,\"PERSON\"],[11,20,\"FIGURE\"],[21,26,\"PERSON\"],[27,34,\"FIGURE\"]]}],[\"11\\\\tChristopher\\\\t2,044,437\\\\tLisa\\\\t965,015\\\\r\",{\"entities\":[[0,2,\"FIGURE\"],[3,14,\"PERSON\"],[15,24,\"FIGURE\"],[25,29,\"PERSON\"],[30,37,\"FIGURE\"]]}],[\"12\\\\tDaniel\\\\t1,900,488\\\\tNancy\\\\t963,833\\\\r\",{\"entities\":[[0,2,\"FIGURE\"],[3,9,\"PERSON\"],[10,19,\"FIGURE\"],[20,25,\"PERSON\"],[26,33,\"FIGURE\"]]}],[\"13\\\\tMatthew\\\\t1,614,109\\\\tBetty\\\\t906,997\\\\r\",{\"entities\":[[0,2,\"FIGURE\"],[3,10,\"PERSON\"],[11,20,\"FIGURE\"],[21,26,\"PERSON\"],[27,34,\"FIGURE\"]]}],[\"14\\\\tAnthony\\\\t1,407,623\\\\tMargaret\\\\t892,334\\\\r\",{\"entities\":[[0,2,\"FIGURE\"],[3,10,\"PERSON\"],[11,20,\"FIGURE\"],[21,29,\"PERSON\"],[30,37,\"FIGURE\"]]}],[\"15\\\\tMark\\\\t1,348,322\\\\tSandra\\\\t873,655\\\\r\",{\"entities\":[[0,2,\"FIGURE\"],[3,7,\"PERSON\"],[8,17,\"FIGURE\"],[18,24,\"PERSON\"],[25,32,\"FIGURE\"]]}],[\"16\\\\tDonald\\\\t1,323,467\\\\tAshley\\\\t851,020\\\\r\",{\"entities\":[[0,2,\"FIGURE\"],[3,9,\"PERSON\"],[10,19,\"FIGURE\"],[20,26,\"PERSON\"],[27,34,\"FIGURE\"]]}],[\"17\\\\tSteven\\\\t1,283,686\\\\tKimberly\\\\t841,144\\\\r\",{\"entities\":[[0,2,\"FIGURE\"],[3,9,\"PERSON\"],[10,19,\"FIGURE\"],[20,28,\"PERSON\"],[29,36,\"FIGURE\"]]}],[\"18\\\\tPaul\\\\t1,263,912\\\\tEmily\\\\t835,442\\\\r\",{\"entities\":[[0,2,\"FURNITURE\"],[3,7,\"PERSON\"],[8,17,\"FURNITURE\"],[18,23,\"PERSON\"],[24,31,\"FURNITURE\"]]}],[\"19\\\\tAndrew\\\\t1,255,723\\\\tDonna\\\\t821,223\\\\r\",{\"entities\":[[0,2,\"FIGURE\"],[3,9,\"PERSON\"],[10,19,\"FIGURE\"],[20,25,\"PERSON\"],[26,33,\"FIGURE\"]]}],[\"20\\\\tJoshua\\\\t1,226,213\\\\tMichelle\\\\t813,153\\\\r\",{\"entities\":[[0,9,\"PERSON\"],[10,19,\"FIGURE\"],[20,28,\"PERSON\"],[29,36,\"FIGURE\"]]}],[\"21\\\\tKenneth\\\\t1,212,646\\\\tCarol\\\\t804,807\\\\r\",{\"entities\":[[0,2,\"FIGURE\"],[3,10,\"PERSON\"],[11,20,\"FIGURE\"],[21,26,\"PERSON\"],[27,34,\"FIGURE\"]]}],[\"22\\\\tKevin\\\\t1,176,784\\\\tAmanda\\\\t773,501\\\\r\",{\"entities\":[[0,2,\"FIGURE\"],[3,8,\"PERSON\"],[9,18,\"FIGURE\"],[19,25,\"PERSON\"],[26,33,\"FIGURE\"]]}],[\"23\\\\tBrian\\\\t1,169,267\\\\tDorothy\\\\t772,958\\\\r\",{\"entities\":[[0,2,\"FIGURE\"],[3,8,\"PERSON\"],[9,18,\"FIGURE\"],[19,26,\"PERSON\"],[27,34,\"FIGURE\"]]}],[\"24\\\\tGeorge\\\\t1,110,560\\\\tMelissa\\\\t754,784\\\\r\",{\"entities\":[[0,2,\"FIGURE\"],[3,9,\"PERSON\"],[10,19,\"FIGURE\"],[20,27,\"PERSON\"],[28,35,\"FIGURE\"]]}],[\"25\\\\tTimothy\\\\t1,072,620\\\\tDeborah\\\\t740,223\\\\r\",{\"entities\":[[0,2,\"FIGURE\"],[3,10,\"PERSON\"],[11,20,\"FIGURE\"],[21,28,\"PERSON\"],[29,36,\"FIGURE\"]]}],[\"26\\\\tRonald\\\\t1,072,270\\\\tStephanie\\\\t738,905\\\\r\",{\"entities\":[[0,2,\"FIGURE\"],[3,9,\"PERSON\"],[10,19,\"FIGURE\"],[20,29,\"PERSON\"],[30,37,\"FIGURE\"]]}],[\"27\\\\tEdward\\\\t1,060,576\\\\tRebecca\\\\t729,447\\\\r\",{\"entities\":[[0,2,\"FIGURE\"],[3,9,\"PERSON\"],[10,19,\"FIGURE\"],[20,27,\"PERSON\"],[28,35,\"FIGURE\"]]}],[\"28\\\\tJason\\\\t1,041,127\\\\tSharon\\\\t720,831\\\\r\",{\"entities\":[[0,2,\"FIGURE\"],[3,8,\"PERSON\"],[9,18,\"FIGURE\"],[19,25,\"PERSON\"],[26,33,\"FIGURE\"]]}],[\"29\\\\tJeffrey\\\\t976,651\\\\tLaura\\\\t714,847\\\\r\",{\"entities\":[[0,2,\"FIGURE\"],[3,10,\"PERSON\"],[11,18,\"FIGURE\"],[19,24,\"PERSON\"],[25,32,\"FIGURE\"]]}],[\"30\\\\tRyan\\\\t947,756\\\\tCynthia\\\\t705,778\\\\r\",{\"entities\":[[0,2,\"FIGURE\"],[3,7,\"PERSON\"],[8,15,\"FIGURE\"],[16,23,\"PERSON\"],[24,31,\"FIGURE\"]]}],[\"31\\\\tJacob\\\\t941,181\\\\tKathleen\\\\t683,064\\\\r\",{\"entities\":[[0,2,\"FIGURE\"],[3,8,\"PERSON\"],[9,16,\"FIGURE\"],[17,25,\"PERSON\"],[26,33,\"FIGURE\"]]}],[\"32\\\\tGary\\\\t900,277\\\\tAmy\\\\t682,347\\\\r\",{\"entities\":[[0,2,\"FIGURE\"],[3,7,\"PERSON\"],[8,15,\"FIGURE\"],[16,19,\"PERSON\"],[20,27,\"FIGURE\"]]}],[\"33\\\\tNicholas\\\\t896,856\\\\tAngela\\\\t659,597\\\\r\",{\"entities\":[[0,2,\"FIGURE\"],[3,11,\"PERSON\"],[12,19,\"FIGURE\"],[20,26,\"PERSON\"],[27,34,\"FIGURE\"]]}],[\"34\\\\tEric\\\\t880,874\\\\tShirley\\\\t657,764\\\\r\",{\"entities\":[[0,2,\"FIGURE\"],[3,7,\"PERSON\"],[8,15,\"FIGURE\"],[16,23,\"PERSON\"],[24,31,\"FIGURE\"]]}],[\"35\\\\tJonathan\\\\t853,162\\\\tAnna\\\\t607,022\\\\r\",{\"entities\":[[0,2,\"FIGURE\"],[3,11,\"PERSON\"],[12,19,\"FIGURE\"],[20,24,\"PERSON\"],[25,32,\"FIGURE\"]]}],[\"36\\\\tStephen\\\\t838,395\\\\tBrenda\\\\t606,299\\\\r\",{\"entities\":[[0,2,\"FIGURE\"],[3,10,\"PERSON\"],[11,18,\"FIGURE\"],[19,25,\"PERSON\"],[26,33,\"FIGURE\"]]}],[\"37\\\\tLarry\\\\t802,063\\\\tPamela\\\\t592,699\\\\r\",{\"entities\":[[0,2,\"FIGURE\"],[3,8,\"PERSON\"],[9,16,\"FIGURE\"],[17,23,\"PERSON\"],[24,31,\"FIGURE\"]]}],[\"38\\\\tJustin\\\\t781,577\\\\tEmma\\\\t591,173\\\\r\",{\"entities\":[[0,2,\"FIGURE\"],[3,9,\"PERSON\"],[10,17,\"FIGURE\"],[18,22,\"PERSON\"],[23,30,\"FIGURE\"]]}],[\"39\\\\tScott\\\\t770,208\\\\tNicole\\\\t590,414\\\\r\",{\"entities\":[[0,2,\"FIGURE\"],[3,8,\"PERSON\"],[9,16,\"FIGURE\"],[17,23,\"PERSON\"],[24,31,\"FIGURE\"]]}],[\"40\\\\tBrandon\\\\t763,634\\\\tHelen\\\\t584,461\\\\r\",{\"entities\":[[0,2,\"FIGURE\"],[3,10,\"PERSON\"],[11,18,\"FIGURE\"],[19,24,\"PERSON\"],[25,32,\"FIGURE\"]]}],[\"41\\\\tBenjamin\\\\t749,881\\\\tSamantha\\\\t581,626\\\\r\",{\"entities\":[[0,2,\"FIGURE\"],[3,11,\"PERSON\"],[12,19,\"FIGURE\"],[20,28,\"PERSON\"],[29,36,\"FIGURE\"]]}],[\"42\\\\tSamuel\\\\t717,912\\\\tKatherine\\\\t568,258\\\\r\",{\"entities\":[[0,2,\"FIGURE\"],[3,9,\"PERSON\"],[10,17,\"FIGURE\"],[18,27,\"PERSON\"],[28,35,\"FIGURE\"]]}],[\"43\\\\tGregory\\\\t707,931\\\\tChristine\\\\t558,861\\\\r\",{\"entities\":[[0,2,\"FIGURE\"],[3,10,\"PERSON\"],[11,18,\"FIGURE\"],[19,28,\"PERSON\"],[29,36,\"FIGURE\"]]}],[\"44\\\\tAlexander\\\\t683,727\\\\tDebra\\\\t548,281\\\\r\",{\"entities\":[[0,2,\"FIGURE\"],[3,12,\"PERSON\"],[13,20,\"FIGURE\"],[21,26,\"PERSON\"],[27,34,\"FIGURE\"]]}],[\"45\\\\tFrank\\\\t675,530\\\\tRachel\\\\t545,873\\\\r\",{\"entities\":[[0,2,\"FIGURE\"],[3,8,\"PERSON\"],[9,16,\"FIGURE\"],[17,23,\"PERSON\"],[24,31,\"FIGURE\"]]}],[\"46\\\\tPatrick\\\\t665,520\\\\tCarolyn\\\\t539,223\\\\r\",{\"entities\":[[0,2,\"FIGURE\"],[3,10,\"PERSON\"],[11,18,\"FIGURE\"],[19,26,\"PERSON\"],[27,34,\"FIGURE\"]]}],[\"47\\\\tRaymond\\\\t657,165\\\\tJanet\\\\t537,105\\\\r\",{\"entities\":[[0,2,\"FIGURE\"],[3,10,\"PERSON\"],[11,18,\"FIGURE\"],[19,24,\"PERSON\"],[25,32,\"FIGURE\"]]}],[\"48\\\\tJack\\\\t635,483\\\\tCatherine\\\\t534,876\\\\r\",{\"entities\":[[0,2,\"FIGURE\"],[3,7,\"PERSON\"],[8,15,\"FIGURE\"],[16,25,\"PERSON\"],[26,33,\"FIGURE\"]]}],[\"49\\\\tDennis\\\\t610,810\\\\tMaria\\\\t529,993\\\\r\",{\"entities\":[]}],[\"50\\\\tJerry\\\\t601,368\\\\tHeather\\\\t524,171\\\\r\",{\"entities\":[[0,2,\"FIGURE\"],[3,8,\"PERSON\"],[9,16,\"FIGURE\"],[25,32,\"FIGURE\"]]}],[\"51\\\\tTyler\\\\t594,971\\\\tDiane\\\\t515,112\\\\r\",{\"entities\":[]}],[\"52\\\\tAaron\\\\t588,205\\\\tRuth\\\\t514,443\\\\r\",{\"entities\":[[3,8,\"PERSON\"],[9,16,\"FIGURE\"],[17,21,\"PERSON\"],[22,29,\"FIGURE\"]]}],[\"53\\\\tJose\\\\t565,276\\\\tJulie\\\\t506,856\\\\r\",{\"entities\":[[0,2,\"FIGURE\"],[3,7,\"PERSON\"],[8,15,\"FIGURE\"],[16,21,\"PERSON\"],[22,29,\"FIGURE\"]]}],[\"54\\\\tAdam\\\\t557,653\\\\tOlivia\\\\t498,779\\\\r\",{\"entities\":[[0,2,\"FIGURE\"],[3,7,\"PERSON\"],[8,15,\"FIGURE\"],[16,22,\"PERSON\"],[23,30,\"FIGURE\"]]}],[\"55\\\\tNathan\\\\t554,162\\\\tJoyce\\\\t497,784\\\\r\",{\"entities\":[[0,2,\"FIGURE\"],[3,9,\"PERSON\"],[10,17,\"FIGURE\"],[18,23,\"PERSON\"],[24,31,\"FIGURE\"]]}],[\"56\\\\tHenry\\\\t552,869\\\\tVirginia\\\\t496,631\\\\r\",{\"entities\":[[0,2,\"FIGURE\"],[3,8,\"PERSON\"],[9,16,\"FIGURE\"],[17,25,\"PERSON\"],[26,33,\"FIGURE\"]]}],[\"57\\\\tDouglas\\\\t546,783\\\\tVictoria\\\\t489,302\\\\r\",{\"entities\":[]}],[\"58\\\\tZachary\\\\t543,288\\\\tKelly\\\\t471,945\\\\r\",{\"entities\":[[3,10,\"PERSON\"],[11,18,\"FIGURE\"],[19,24,\"PERSON\"],[25,32,\"FIGURE\"]]}],[\"1\\\\tAfghanistan\\\\t38,928,346\\\\t652,860\\\\t60\\\\r\",{\"entities\":[[2,13,\"GPE\"],[14,35,\"FIGURE\"]]}],[\"2\\\\tAlbania\\\\t2,877,797\\\\t27,400\\\\t105\\\\r\",{\"entities\":[[0,1,\"FIGURE\"],[2,9,\"PERSON\"],[10,30,\"FIGURE\"]]}],[\"3\\\\tAlgeria\\\\t43,851,044\\\\t2,381,740\\\\t18\\\\r\",{\"entities\":[[2,9,\"GPE\"],[10,33,\"FIGURE\"]]}],[\"4\\\\tAndorra\\\\t77,265\\\\t470\\\\t164\\\\r\",{\"entities\":[[2,9,\"GPE\"]]}],[\"5\\\\tAngola\\\\t32,866,272\\\\t1,246,700\\\\t26\\\\r\",{\"entities\":[[2,8,\"GPE\"],[9,19,\"FIGURE\"],[20,29,\"FIGURE\"],[30,32,\"FIGURE\"]]}],[\"6\\\\tAntigua and Barbuda\\\\t97,929\\\\t440\\\\t223\\\\r\",{\"entities\":[[2,9,\"GPE\"],[14,21,\"GPE\"],[22,36,\"FIGURE\"]]}],[\"7\\\\tArgentina\\\\t45,195,774\\\\t2,736,690\\\\t17\\\\r\",{\"entities\":[[2,11,\"GPE\"],[12,35,\"FIGURE\"]]}],[\"8\\\\tArmenia\\\\t2,963,243\\\\t28,470\\\\t104\\\\r\",{\"entities\":[[2,9,\"GPE\"],[10,30,\"FIGURE\"]]}],[\"9\\\\tAustralia\\\\t25,499,884\\\\t7,682,300\\\\t3\\\\r\",{\"entities\":[[2,11,\"GPE\"]]}],[\"10\\\\tAustria\\\\t9,006,398\\\\t82,409\\\\t109\\\\r\",{\"entities\":[[3,10,\"GPE\"]]}],[\"11\\\\tAzerbaijan\\\\t10,139,177\\\\t82,658\\\\t123\\\\r\",{\"entities\":[[3,13,\"GPE\"]]}],[\"12\\\\tBahamas\\\\t393,244\\\\t10,010\\\\t39\\\\r\",{\"entities\":[[3,10,\"GPE\"]]}],[\"13\\\\tBahrain\\\\t1,701,575\\\\t760\\\\t2,239\\\\r\",{\"entities\":[[3,10,\"GPE\"]]}],[\"14\\\\tBangladesh\\\\t164,689,383\\\\t130,170\\\\t1,265\\\\r\",{\"entities\":[[3,13,\"GPE\"]]}],[\"15\\\\tBarbados\\\\t287,375\\\\t430\\\\t668\\\\r\",{\"entities\":[[3,11,\"GPE\"]]}],[\"16\\\\tBelarus\\\\t9,449,323\\\\t202,910\\\\t47\\\\r\",{\"entities\":[[3,10,\"GPE\"]]}],[\"17\\\\tBelgium\\\\t11,589,623\\\\t30,280\\\\t383\\\\r\",{\"entities\":[[0,10,\"GPE\"]]}],[\"18\\\\tBelize\\\\t397,628\\\\t22,810\\\\t17\\\\r\",{\"entities\":[[3,9,\"GPE\"]]}],[\"19\\\\tBenin\\\\t12,123,200\\\\t112,760\\\\t108\\\\r\",{\"entities\":[[3,8,\"GPE\"]]}],[\"20\\\\tBhutan\\\\t771,608\\\\t38,117\\\\t20\\\\r\",{\"entities\":[[3,9,\"GPE\"]]}],[\"21\\\\tBolivia\\\\t11,673,021\\\\t1,083,300\\\\t11\\\\r\",{\"entities\":[[3,10,\"GPE\"]]}],[\"22\\\\tBosnia and Herzegovina\\\\t3,280,819\\\\t51,000\\\\t64\\\\r\",{\"entities\":[[3,13,\"GPE\"],[14,25,\"GPE\"]]}],[\"23\\\\tBotswana\\\\t2,351,627\\\\t566,730\\\\t4\\\\r\",{\"entities\":[[3,11,\"GPE\"]]}],[\"24\\\\tBrazil\\\\t212,559,417\\\\t8,358,140\\\\t25\\\\r\",{\"entities\":[[0,9,\"GPE\"]]}],[\"25\\\\tBrunei\\\\t437,479\\\\t5,270\\\\t83\\\\r\",{\"entities\":[[3,17,\"GPE\"]]}],[\"26\\\\tBulgaria\\\\t6,948,445\\\\t108,560\\\\t64\\\\r\",{\"entities\":[]}],[\"27\\\\tBurkina Faso\\\\t20,903,273\\\\r\",{\"entities\":[[3,15,\"GPE\"]]}],[\"Stephen was diligent in his work. He made effort to resolve issues that were assigned to him.\\\\r\",{\"entities\":[[0,7,\"PERSON\"],[24,27,\"PERSON\"],[34,36,\"PERSON\"],[89,93,\"PERSON\"]]}],[\"He has a quick understanding of technical problems and he tries his best to solve them independently. \\\\r\",{\"entities\":[[3,6,\"PERSON\"],[55,57,\"PERSON\"],[64,67,\"PERSON\"]]}],[\"Stephen is a quick learner and he has great future ahead of him in the software engineering field.\\\\r\",{\"entities\":[[0,7,\"PERSON\"],[31,37,\"PERSON\"],[60,66,\"PERSON\"],[71,91,\"PROGRAM\"]]}],[\"He has very good knowledge of the whole process of installation.\\\\r\",{\"entities\":[[0,6,\"PERSON\"],[7,26,\"COMMENT\"]]}],[\"She has knowledge of this topic and can identify and use the devices\\\\r\",{\"entities\":[[4,7,\"PERSON\"]]}],[\"I assigned him two tasks.  One was to learn the basics of software engineering (That is building architecture and the software process work flaw), and he has done them well. I  wanted him to learn git so that we can be working remotely as he learns, therefore I will be monitoring his code from Github. I realized that previously he knew nothing about Git, but now he knows something that can get him started.\\\\r\",{\"entities\":[[0,1,\"PERSON\"],[11,14,\"PERSON\"],[58,78,\"PROGRAM\"],[151,157,\"PERSON\"],[174,175,\"PERSON\"],[184,187,\"PERSON\"],[239,241,\"PERSON\"],[260,261,\"PERSON\"],[281,284,\"PERSON\"],[295,302,\"APPLICATIONS\"],[305,313,\"PERSON\"]]}],[\"I assigned him two tasks.  One was to learn the basics of software engineering (That is building architecture and the software process work flaw), and he has done them well. I wanted him to learn git so that we can be working remotely as he learns, therefore I will be monitoring his code from Github. I realized that previously he knew nothing about Git, but now he knows something that can get him started.\\\\r\",{\"entities\":[[0,1,\"PERSON\"],[11,14,\"PERSON\"],[151,157,\"PERSON\"],[174,175,\"PERSON\"],[183,186,\"PERSON\"],[235,240,\"PERSON\"],[259,260,\"PERSON\"],[280,283,\"PERSON\"],[294,301,\"APPLICATIONS\"],[329,331,\"PERSON\"],[351,354,\"APPLICATIONS\"],[364,366,\"PERSON\"],[396,399,\"PERSON\"]]}],[\"He was still having problems with using Jquery and Vue JS on the same interface, I advised him to use different master pages and only use the same CSS on both to avoid conflicts. But he is still working, it is steady progress\\\\r\",{\"entities\":[[0,2,\"PERSON\"],[40,46,\"APPLICATIONS\"],[51,57,\"APPLICATIONS\"],[79,82,\"PERSON\"],[91,94,\"PERSON\"],[147,150,\"APPLICATIONS\"],[183,185,\"PERSON\"],[210,225,\"COMMENT\"]]}],[\"Good attitude and resilience. This is a good start\\\\r\",{\"entities\":[[5,13,\"COMMENT\"]]}],[\"He is very interested in learning new things like the commands for system admins and other things otherwise very well performed\\\\r\",{\"entities\":[[0,2,\"PERSON\"]]}],[\"Good progress. I expect more from the student as we work together during this period.\\\\r\",{\"entities\":[[0,14,\"COMMENT\"],[15,16,\"PERSON\"],[38,45,\"PERSON\"]]}],[\"Good time keeper with much interest on networks\\\\r\",{\"entities\":[[0,16,\"COMMENT\"]]}],[\"Maintains good working relationships with coworkers.\\\\r\",{\"entities\":[[42,51,\"PEOPLE\"]]}],[\"He\\'s a quick learner, has a few ideas on the wordpress tasks and he\\'s copying well.\\\\r\",{\"entities\":[[0,4,\"PERSON\"],[65,69,\"PERSON\"]]}],[\"The student was able to install printer drivers. He was able to demonstrate file transfer through file access links on different computers. He was able to identify the compatible RAM  for the computer in question. He also was able to create rules to folders in MS outlook 2010.\\\\r\",{\"entities\":[[4,11,\"PERSON\"],[49,51,\"PERSON\"],[214,216,\"PERSON\"],[261,271,\"APPLICATIONS\"]]}],[\"With more practice, he will be able to operate with minimal supervision.\\\\r\",{\"entities\":[[18,22,\"PERSON\"]]}],[\"She needs more practice otherwise very interested\\\\r\",{\"entities\":[[0,3,\"PERSON\"]]}],[\"She knows about her hardware and can identify and troubleshoot related problems\\\\r\",{\"entities\":[[0,3,\"PERSON\"],[16,19,\"PERSON\"]]}],[\"The student is well organized, willing to learn and innovative\\\\r\",{\"entities\":[[4,11,\"PERSON\"]]}],[\"She has already learned the basics of data analysis in pandas, which is key to the main task which is developing data visualizations. \\\\r\",{\"entities\":[[0,3,\"PERSON\"]]}],[\"She has also presented a conceptual model for the API design for the data that will be required to implement the dashboards.\\\\r\",{\"entities\":[[0,3,\"PERSON\"]]}],[\"This part was challenging to him especially with the configurations and terminations otherwise he makes effort to see that things work at the end of it all\\\\r\",{\"entities\":[[29,32,\"PERSON\"],[95,97,\"PERSON\"]]}],[\"I gave him a task to work (improve) on the front end of a system that is already in production at this company, and he has been progressing well, I realized he knows some programming concepts, so I need to introduce him to real-world problems so he can find solutions to them. He is generally doing well, he will ask where he does not understand.\\\\r\",{\"entities\":[[0,1,\"PERSON\"],[7,10,\"PERSON\"],[116,118,\"PERSON\"],[146,147,\"PERSON\"],[157,159,\"PERSON\"],[196,197,\"PERSON\"],[216,219,\"PERSON\"],[246,248,\"PERSON\"],[271,276,\"PEOPLE\"],[277,279,\"PERSON\"],[303,307,\"PERSON\"]]}],[\"He has some knowledge about IP addresses and now is able to put them in practice\\\\r\",{\"entities\":[[0,2,\"PERSON\"]]}],[\"This week had good development momentum. No issues from me.\\\\r\",{\"entities\":[[56,58,\"PERSON\"]]}],[\"He knows about IP addresses which is very good and now I believe he knows how to enter them and interconnect and configure different devices\\\\r\",{\"entities\":[[0,2,\"PERSON\"],[37,46,\"COMMENT\"],[55,56,\"PERSON\"],[65,67,\"PERSON\"]]}],[\"This week had slower momentum due to some miscalculations on our part.\\\\r\",{\"entities\":[[0,9,\"TIME\"]]}],[\"This week\\'s work was mostly about reducing tech debt and improving pull request quality. There is a lot of progress being made on this front by all team members.\\\\r\",{\"entities\":[[0,11,\"TIME\"],[148,160,\"PEOPLE\"]]}],[\"No notable issues came up to my attention in regard to tasks execution. I am also happy that Benjamin gets to help out on pull request reviews.\\\\r\",{\"entities\":[[72,76,\"PERSON\"],[93,101,\"PERSON\"]]}],[\"This weeks progress was derailed due to Health issues by Benjamin. We hope next week will be better.\\\\r\",{\"entities\":[[0,10,\"TIME\"],[57,66,\"PERSON\"]]}],[\"Tasks execution went well. No notable issues from me per their execution.\\\\r\",{\"entities\":[[50,52,\"PERSON\"]]}],[\"Good attempt and great enthusiasm\\\\r\",{\"entities\":[[0,12,\"COMMENT\"]]}],[\"This was new to him but now is well knowledgeable about setting up a network\\\\r\",{\"entities\":[[16,19,\"PERSON\"]]}],[\"The student acquired skills in networks. Simon was very participative and inquisitive to learn more.\\\\r\",{\"entities\":[[4,11,\"PERSON\"],[41,46,\"PERSON\"]]}],[\"She can identify and troubleshoot the different components of a UPS\\\\r\",{\"entities\":[[0,3,\"PERSON\"]]}],[\"The student acquired hands on skills on installation and configuration of network devices and network layout.\\\\r\",{\"entities\":[[4,11,\"PERSON\"]]}],[\"She has performed well as she is asking and contributing to the identification and solving problems associated with a UPS\\\\r\",{\"entities\":[[0,3,\"PERSON\"],[26,29,\"PERSON\"]]}],[\"She is now knowledgeable about the different symbols associated with a UPS\\\\r\",{\"entities\":[[0,3,\"PERSON\"]]}],[\"She is able to identify the different parts of a computer. Very good\\\\r\",{\"entities\":[[0,3,\"PERSON\"]]}],[\"She has performed very well as she can identity the different components\\\\r\",{\"entities\":[[0,3,\"PERSON\"],[31,34,\"PERSON\"]]}],[\"She has the knowledge but finds difficulty when starting the installation process\\\\r\",{\"entities\":[[0,7,\"PERSON\"]]}],[\"She has performed this very well with no hardship\\\\r\",{\"entities\":[[0,3,\"PERSON\"]]}],[\"The process is kind of challenging especially with the bios page otherwise during the installation she follows quite well\\\\r\",{\"entities\":[[99,102,\"PERSON\"]]}],[\"She needs more practice in terminating cables otherwise has knowledge of networking\\\\r\",{\"entities\":[[0,3,\"PERSON\"]]}],[\"She has learnt how the aspects of wireless networks work and can put them in practice\\\\r\",{\"entities\":[[4,7,\"PERSON\"]]}],[\"This is new to her but is serious on knowing what should be done\\\\r\",{\"entities\":[[15,18,\"PERSON\"]]}],[\"She quickly adapted to the use of Javascript for front end development however if possible more research in that direction would increase perfection hence help her to work faster\\\\r\",{\"entities\":[[0,3,\"PERSON\"],[31,44,\"APPLICATIONS\"]]}],[\"He was given a task to do different code snippets with PHP before he can start on a real-world project, He has done well all the basics of PHP  With this he is good to go, Next is going to be combining JS, PHP, MySQL, and HTML. This will put him at a level of programming small projects for the start.\\\\r\",{\"entities\":[[0,2,\"PERSON\"],[55,58,\"APPLICATIONS\"],[66,68,\"PERSON\"],[104,106,\"PERSON\"],[136,142,\"APPLICATIONS\"],[149,159,\"PERSON\"],[202,204,\"APPLICATIONS\"],[206,209,\"APPLICATIONS\"],[211,216,\"APPLICATIONS\"],[222,227,\"APPLICATIONS\"],[242,245,\"PERSON\"]]}],[\"Student started learning how to deal in corporate environments.\\\\r\",{\"entities\":[[0,7,\"PERSON\"]]}],[\"The student took on a new language and development platform - Django and Python and progressed well on a weekly basis, managing to develop a task management application for the development unit.\\\\r\",{\"entities\":[[4,11,\"PERSON\"],[62,68,\"APPLICATIONS\"],[73,79,\"APPLICATIONS\"]]}],[\"MS Angella is very smart, articulate, calm, ready to learn and willing to face the challenge. Ms Angella settles in well with the existing team who warmly welcomed her. Good luck with this attachment.\\\\r\",{\"entities\":[[0,10,\"PERSON\"],[94,104,\"PERSON\"],[164,168,\"PERSON\"]]}],[\"Some more bug fixes and task finally completed. A report submitted, and I have reviewed the task. I should say, this was good progress.\\\\r\",{\"entities\":[[68,73,\"PERSON\"],[98,99,\"PERSON\"]]}],[\"Also setup cPanel, uploaded the site files and enabled SSL. \\\\r\",{\"entities\":[[11,18,\"APPLICATIONS\"],[47,58,\"APPLICATIONS\"]]}],[\"She has mastered her hardware knowledge and now can identify and troubleshoot problems\\\\r\",{\"entities\":[[0,3,\"PERSON\"],[17,20,\"PERSON\"]]}]]}'}"
            ]
          },
          "metadata": {},
          "execution_count": 8
        }
      ]
    },
    {
      "cell_type": "code",
      "source": [
        "import json\n",
        "y = open('annotations-data.json')\n",
        "TRAIN_DATA = json.load(y)"
      ],
      "metadata": {
        "id": "Ap8POb2jvp2X"
      },
      "execution_count": 9,
      "outputs": []
    },
    {
      "cell_type": "code",
      "source": [
        "for text, annot in tqdm(TRAIN_DATA['annotations']): \n",
        "    doc = nlp.make_doc(text) \n",
        "    ents = []\n",
        "    for start, end, label in annot[\"entities\"]:\n",
        "        span = doc.char_span(start, end, label=label, alignment_mode=\"contract\")\n",
        "        if span is None:\n",
        "            print(\"Skipping entity\")\n",
        "        else:\n",
        "            ents.append(span)\n",
        "    doc.ents = ents \n",
        "    db.add(doc)\n",
        "\n",
        "db.to_disk(\"./annotations-data.spacy\") # save the docbin object"
      ],
      "metadata": {
        "colab": {
          "base_uri": "https://localhost:8080/"
        },
        "id": "skGhGBzxwG5G",
        "outputId": "d4221beb-473e-46ac-b1b2-26a278769785"
      },
      "execution_count": 10,
      "outputs": [
        {
          "output_type": "stream",
          "name": "stderr",
          "text": [
            "100%|██████████| 171/171 [00:00<00:00, 1875.55it/s]\n"
          ]
        }
      ]
    },
    {
      "cell_type": "code",
      "source": [
        "! python -m spacy init config config.cfg --lang en --pipeline ner --optimize efficiency"
      ],
      "metadata": {
        "colab": {
          "base_uri": "https://localhost:8080/"
        },
        "id": "18SxjXkQwcDl",
        "outputId": "8c5e7eea-0373-45be-f408-1bc29979775e"
      },
      "execution_count": 11,
      "outputs": [
        {
          "output_type": "stream",
          "name": "stdout",
          "text": [
            "2022-09-15 12:35:04.611892: E tensorflow/stream_executor/cuda/cuda_driver.cc:271] failed call to cuInit: CUDA_ERROR_NO_DEVICE: no CUDA-capable device is detected\n",
            "\u001b[38;5;3m⚠ To generate a more effective transformer-based config (GPU-only),\n",
            "install the spacy-transformers package and re-run this command. The config\n",
            "generated now does not use transformers.\u001b[0m\n",
            "\u001b[38;5;4mℹ Generated config template specific for your use case\u001b[0m\n",
            "- Language: en\n",
            "- Pipeline: ner\n",
            "- Optimize for: efficiency\n",
            "- Hardware: CPU\n",
            "- Transformer: None\n",
            "\u001b[38;5;2m✔ Auto-filled config with all values\u001b[0m\n",
            "\u001b[38;5;2m✔ Saved config\u001b[0m\n",
            "config.cfg\n",
            "You can now add your data and train your pipeline:\n",
            "python -m spacy train config.cfg --paths.train ./train.spacy --paths.dev ./dev.spacy\n"
          ]
        }
      ]
    },
    {
      "cell_type": "code",
      "source": [
        "! python -m spacy train config.cfg --output ./ --paths.train ./annotations-data.spacy --paths.dev ./annotations-data.spacy"
      ],
      "metadata": {
        "colab": {
          "base_uri": "https://localhost:8080/"
        },
        "id": "bGfWXiuKwcrI",
        "outputId": "e7d7ae8e-35d5-404a-9b2b-16533e1c5f1c"
      },
      "execution_count": 13,
      "outputs": [
        {
          "output_type": "stream",
          "name": "stdout",
          "text": [
            "2022-09-15 12:35:58.055744: E tensorflow/stream_executor/cuda/cuda_driver.cc:271] failed call to cuInit: CUDA_ERROR_NO_DEVICE: no CUDA-capable device is detected\n",
            "\u001b[38;5;4mℹ Saving to output directory: .\u001b[0m\n",
            "\u001b[38;5;4mℹ Using CPU\u001b[0m\n",
            "\u001b[1m\n",
            "=========================== Initializing pipeline ===========================\u001b[0m\n",
            "[2022-09-15 12:35:58,816] [INFO] Set up nlp object from config\n",
            "INFO:spacy:Set up nlp object from config\n",
            "[2022-09-15 12:35:58,829] [INFO] Pipeline: ['tok2vec', 'ner']\n",
            "INFO:spacy:Pipeline: ['tok2vec', 'ner']\n",
            "[2022-09-15 12:35:58,833] [INFO] Created vocabulary\n",
            "INFO:spacy:Created vocabulary\n",
            "[2022-09-15 12:35:58,835] [INFO] Finished initializing nlp object\n",
            "INFO:spacy:Finished initializing nlp object\n",
            "[2022-09-15 12:35:59,107] [INFO] Initialized pipeline components: ['tok2vec', 'ner']\n",
            "INFO:spacy:Initialized pipeline components: ['tok2vec', 'ner']\n",
            "\u001b[38;5;2m✔ Initialized pipeline\u001b[0m\n",
            "\u001b[1m\n",
            "============================= Training pipeline =============================\u001b[0m\n",
            "\u001b[38;5;4mℹ Pipeline: ['tok2vec', 'ner']\u001b[0m\n",
            "\u001b[38;5;4mℹ Initial learn rate: 0.001\u001b[0m\n",
            "E    #       LOSS TOK2VEC  LOSS NER  ENTS_F  ENTS_P  ENTS_R  SCORE \n",
            "---  ------  ------------  --------  ------  ------  ------  ------\n",
            "  0       0          0.00     58.95    5.87    4.38    8.87    0.06\n",
            "  6     200       1172.18   3956.38   81.65   81.85   81.46    0.82\n",
            " 14     400        375.65   1669.36   89.70   89.70   89.70    0.90\n",
            " 25     600        244.73   1202.16   92.98   92.61   93.34    0.93\n",
            " 37     800        301.29   1237.82   93.08   92.36   93.82    0.93\n",
            " 53    1000        314.82   1292.21   93.35   93.21   93.50    0.93\n",
            " 72    1200        403.72   1540.44   93.05   92.76   93.34    0.93\n",
            " 95    1400        468.36   1861.18   92.41   95.29   89.70    0.92\n",
            "124    1600        333.49   2013.47   93.21   92.91   93.50    0.93\n",
            "159    1800        365.75   2523.58   93.59   93.51   93.66    0.94\n",
            "201    2000        340.49   2833.43   93.44   94.35   92.55    0.93\n",
            "251    2200        337.91   3382.93   93.80   94.10   93.50    0.94\n",
            "316    2400        353.17   4140.53   93.80   94.10   93.50    0.94\n",
            "382    2600        347.01   4314.23   93.92   93.55   94.29    0.94\n",
            "449    2800        286.45   4228.42   93.72   94.09   93.34    0.94\n",
            "516    3000        258.55   4363.13   93.67   93.52   93.82    0.94\n",
            "582    3200        224.76   4222.08   93.32   93.62   93.03    0.93\n",
            "649    3400        257.28   4217.50   93.93   93.42   94.45    0.94\n",
            "716    3600        277.44   4250.75   93.48   93.78   93.19    0.93\n",
            "782    3800        252.77   4234.63   93.58   93.65   93.50    0.94\n",
            "849    4000        200.09   4220.01   93.36   92.00   94.77    0.93\n",
            "916    4200        208.35   4242.82   93.51   93.36   93.66    0.94\n",
            "982    4400        202.76   4221.20   93.63   94.08   93.19    0.94\n",
            "1049    4600        194.82   4184.71   93.76   94.67   92.87    0.94\n",
            "1116    4800        221.24   4242.02   93.48   92.68   94.29    0.93\n",
            "1182    5000        209.46   4201.04   92.78   93.98   91.60    0.93\n",
            "\u001b[38;5;2m✔ Saved pipeline to output directory\u001b[0m\n",
            "model-last\n"
          ]
        }
      ]
    },
    {
      "cell_type": "code",
      "source": [
        "nlp_ner = spacy.load(\"/content/model-best\")"
      ],
      "metadata": {
        "id": "s8UIhxKRw-JY"
      },
      "execution_count": 14,
      "outputs": []
    },
    {
      "cell_type": "code",
      "source": [
        "doc = nlp_ner('''He's a quick learner, has a few ideas on the wordpress tasks and he's copying well.\n",
        "The student was able to install printer drivers. He was able to demonstrate file transfer through file access links on different computers. He was able to identify the compatible RAM  for the computer in question. He also was able to create rules to folders in MS outlook 2010.\n",
        "With more practice, he will be able to operate with minimal supervision.\n",
        "She needs more practice otherwise very interested\n",
        "She knows about her hardware and can identify and troubleshoot related problems\n",
        "The student is well organized, willing to learn and innovative\n",
        "As stated, the internet blackout halted progress.\n",
        "She has already learned the basics of data analysis in pandas, which is key to the main task which is developing data visual''')"
      ],
      "metadata": {
        "id": "tCdhaiYExvCK"
      },
      "execution_count": 15,
      "outputs": []
    },
    {
      "cell_type": "code",
      "source": [
        "spacy.displacy.render(doc, style=\"ent\", jupyter=True) # display in Jupyter"
      ],
      "metadata": {
        "colab": {
          "base_uri": "https://localhost:8080/",
          "height": 387
        },
        "id": "szjsGGZk8dvQ",
        "outputId": "d4b8a2fa-59f9-42ec-96b7-6c12f947a4e0"
      },
      "execution_count": 16,
      "outputs": [
        {
          "output_type": "display_data",
          "data": {
            "text/plain": [
              "<IPython.core.display.HTML object>"
            ],
            "text/html": [
              "<span class=\"tex2jax_ignore\"><div class=\"entities\" style=\"line-height: 2.5; direction: ltr\">\n",
              "<mark class=\"entity\" style=\"background: #aa9cfc; padding: 0.45em 0.6em; margin: 0 0.25em; line-height: 1; border-radius: 0.35em;\">\n",
              "    He's\n",
              "    <span style=\"font-size: 0.8em; font-weight: bold; line-height: 1; border-radius: 0.35em; vertical-align: middle; margin-left: 0.5rem\">PERSON</span>\n",
              "</mark>\n",
              " a quick learner, has a few ideas on the wordpress tasks and \n",
              "<mark class=\"entity\" style=\"background: #aa9cfc; padding: 0.45em 0.6em; margin: 0 0.25em; line-height: 1; border-radius: 0.35em;\">\n",
              "    he's\n",
              "    <span style=\"font-size: 0.8em; font-weight: bold; line-height: 1; border-radius: 0.35em; vertical-align: middle; margin-left: 0.5rem\">PERSON</span>\n",
              "</mark>\n",
              " copying well.</br>The \n",
              "<mark class=\"entity\" style=\"background: #aa9cfc; padding: 0.45em 0.6em; margin: 0 0.25em; line-height: 1; border-radius: 0.35em;\">\n",
              "    student\n",
              "    <span style=\"font-size: 0.8em; font-weight: bold; line-height: 1; border-radius: 0.35em; vertical-align: middle; margin-left: 0.5rem\">PERSON</span>\n",
              "</mark>\n",
              " was able to install printer drivers. \n",
              "<mark class=\"entity\" style=\"background: #aa9cfc; padding: 0.45em 0.6em; margin: 0 0.25em; line-height: 1; border-radius: 0.35em;\">\n",
              "    He\n",
              "    <span style=\"font-size: 0.8em; font-weight: bold; line-height: 1; border-radius: 0.35em; vertical-align: middle; margin-left: 0.5rem\">PERSON</span>\n",
              "</mark>\n",
              " was able to demonstrate file transfer through file access links on different computers. He was able to identify the compatible RAM  for the computer in question. \n",
              "<mark class=\"entity\" style=\"background: #aa9cfc; padding: 0.45em 0.6em; margin: 0 0.25em; line-height: 1; border-radius: 0.35em;\">\n",
              "    He\n",
              "    <span style=\"font-size: 0.8em; font-weight: bold; line-height: 1; border-radius: 0.35em; vertical-align: middle; margin-left: 0.5rem\">PERSON</span>\n",
              "</mark>\n",
              " also was able to create rules to folders in \n",
              "<mark class=\"entity\" style=\"background: #ddd; padding: 0.45em 0.6em; margin: 0 0.25em; line-height: 1; border-radius: 0.35em;\">\n",
              "    MS outlook\n",
              "    <span style=\"font-size: 0.8em; font-weight: bold; line-height: 1; border-radius: 0.35em; vertical-align: middle; margin-left: 0.5rem\">APPLICATIONS</span>\n",
              "</mark>\n",
              " 2010.</br>With more practice\n",
              "<mark class=\"entity\" style=\"background: #aa9cfc; padding: 0.45em 0.6em; margin: 0 0.25em; line-height: 1; border-radius: 0.35em;\">\n",
              "    , he\n",
              "    <span style=\"font-size: 0.8em; font-weight: bold; line-height: 1; border-radius: 0.35em; vertical-align: middle; margin-left: 0.5rem\">PERSON</span>\n",
              "</mark>\n",
              " will be able to operate with minimal supervision.</br>\n",
              "<mark class=\"entity\" style=\"background: #aa9cfc; padding: 0.45em 0.6em; margin: 0 0.25em; line-height: 1; border-radius: 0.35em;\">\n",
              "    She\n",
              "    <span style=\"font-size: 0.8em; font-weight: bold; line-height: 1; border-radius: 0.35em; vertical-align: middle; margin-left: 0.5rem\">PERSON</span>\n",
              "</mark>\n",
              " needs more practice otherwise very interested</br>\n",
              "<mark class=\"entity\" style=\"background: #aa9cfc; padding: 0.45em 0.6em; margin: 0 0.25em; line-height: 1; border-radius: 0.35em;\">\n",
              "    She\n",
              "    <span style=\"font-size: 0.8em; font-weight: bold; line-height: 1; border-radius: 0.35em; vertical-align: middle; margin-left: 0.5rem\">PERSON</span>\n",
              "</mark>\n",
              " knows about \n",
              "<mark class=\"entity\" style=\"background: #aa9cfc; padding: 0.45em 0.6em; margin: 0 0.25em; line-height: 1; border-radius: 0.35em;\">\n",
              "    her\n",
              "    <span style=\"font-size: 0.8em; font-weight: bold; line-height: 1; border-radius: 0.35em; vertical-align: middle; margin-left: 0.5rem\">PERSON</span>\n",
              "</mark>\n",
              " hardware and can identify and troubleshoot related problems</br>The \n",
              "<mark class=\"entity\" style=\"background: #aa9cfc; padding: 0.45em 0.6em; margin: 0 0.25em; line-height: 1; border-radius: 0.35em;\">\n",
              "    student\n",
              "    <span style=\"font-size: 0.8em; font-weight: bold; line-height: 1; border-radius: 0.35em; vertical-align: middle; margin-left: 0.5rem\">PERSON</span>\n",
              "</mark>\n",
              " is well organized, willing to learn and innovative</br>As stated, the internet blackout halted progress.</br>\n",
              "<mark class=\"entity\" style=\"background: #aa9cfc; padding: 0.45em 0.6em; margin: 0 0.25em; line-height: 1; border-radius: 0.35em;\">\n",
              "    She\n",
              "    <span style=\"font-size: 0.8em; font-weight: bold; line-height: 1; border-radius: 0.35em; vertical-align: middle; margin-left: 0.5rem\">PERSON</span>\n",
              "</mark>\n",
              " has already learned the basics of data analysis in pandas, which is key to the main task which is developing data visual</div></span>"
            ]
          },
          "metadata": {}
        }
      ]
    },
    {
      "cell_type": "code",
      "source": [
        "!pip install gradio"
      ],
      "metadata": {
        "id": "DldyhKl1M8iW",
        "colab": {
          "base_uri": "https://localhost:8080/"
        },
        "outputId": "a443a268-aa79-4e0c-c6cd-2a1e445b0f31"
      },
      "execution_count": 17,
      "outputs": [
        {
          "output_type": "stream",
          "name": "stdout",
          "text": [
            "Looking in indexes: https://pypi.org/simple, https://us-python.pkg.dev/colab-wheels/public/simple/\n",
            "Collecting gradio\n",
            "  Downloading gradio-3.3-py3-none-any.whl (6.1 MB)\n",
            "\u001b[K     |████████████████████████████████| 6.1 MB 4.0 MB/s \n",
            "\u001b[?25hCollecting pycryptodome\n",
            "  Downloading pycryptodome-3.15.0-cp35-abi3-manylinux2010_x86_64.whl (2.3 MB)\n",
            "\u001b[K     |████████████████████████████████| 2.3 MB 39.3 MB/s \n",
            "\u001b[?25hCollecting pydub\n",
            "  Downloading pydub-0.25.1-py2.py3-none-any.whl (32 kB)\n",
            "Collecting paramiko\n",
            "  Downloading paramiko-2.11.0-py2.py3-none-any.whl (212 kB)\n",
            "\u001b[K     |████████████████████████████████| 212 kB 56.0 MB/s \n",
            "\u001b[?25hRequirement already satisfied: pillow in /usr/local/lib/python3.7/dist-packages (from gradio) (7.1.2)\n",
            "Collecting analytics-python\n",
            "  Downloading analytics_python-1.4.0-py2.py3-none-any.whl (15 kB)\n",
            "Collecting ffmpy\n",
            "  Downloading ffmpy-0.3.0.tar.gz (4.8 kB)\n",
            "Requirement already satisfied: matplotlib in /usr/local/lib/python3.7/dist-packages (from gradio) (3.2.2)\n",
            "Requirement already satisfied: pyyaml in /usr/local/lib/python3.7/dist-packages (from gradio) (6.0)\n",
            "Requirement already satisfied: numpy in /usr/local/lib/python3.7/dist-packages (from gradio) (1.21.6)\n",
            "Requirement already satisfied: aiohttp in /usr/local/lib/python3.7/dist-packages (from gradio) (3.8.1)\n",
            "Collecting h11<0.13,>=0.11\n",
            "  Downloading h11-0.12.0-py3-none-any.whl (54 kB)\n",
            "\u001b[K     |████████████████████████████████| 54 kB 3.0 MB/s \n",
            "\u001b[?25hRequirement already satisfied: Jinja2 in /usr/local/lib/python3.7/dist-packages (from gradio) (2.11.3)\n",
            "Collecting uvicorn\n",
            "  Downloading uvicorn-0.18.3-py3-none-any.whl (57 kB)\n",
            "\u001b[K     |████████████████████████████████| 57 kB 5.7 MB/s \n",
            "\u001b[?25hCollecting httpx\n",
            "  Downloading httpx-0.23.0-py3-none-any.whl (84 kB)\n",
            "\u001b[K     |████████████████████████████████| 84 kB 3.7 MB/s \n",
            "\u001b[?25hRequirement already satisfied: pandas in /usr/local/lib/python3.7/dist-packages (from gradio) (1.3.5)\n",
            "Collecting python-multipart\n",
            "  Downloading python-multipart-0.0.5.tar.gz (32 kB)\n",
            "Collecting websockets\n",
            "  Downloading websockets-10.3-cp37-cp37m-manylinux_2_5_x86_64.manylinux1_x86_64.manylinux_2_12_x86_64.manylinux2010_x86_64.whl (112 kB)\n",
            "\u001b[K     |████████████████████████████████| 112 kB 49.2 MB/s \n",
            "\u001b[?25hRequirement already satisfied: pydantic in /usr/local/lib/python3.7/dist-packages (from gradio) (1.9.2)\n",
            "Collecting markdown-it-py[linkify,plugins]\n",
            "  Downloading markdown_it_py-2.1.0-py3-none-any.whl (84 kB)\n",
            "\u001b[K     |████████████████████████████████| 84 kB 3.4 MB/s \n",
            "\u001b[?25hRequirement already satisfied: fsspec in /usr/local/lib/python3.7/dist-packages (from gradio) (2022.8.2)\n",
            "Requirement already satisfied: requests in /usr/local/lib/python3.7/dist-packages (from gradio) (2.23.0)\n",
            "Collecting fastapi\n",
            "  Downloading fastapi-0.84.0-py3-none-any.whl (55 kB)\n",
            "\u001b[K     |████████████████████████████████| 55 kB 3.2 MB/s \n",
            "\u001b[?25hCollecting orjson\n",
            "  Downloading orjson-3.8.0-cp37-cp37m-manylinux_2_17_x86_64.manylinux2014_x86_64.whl (270 kB)\n",
            "\u001b[K     |████████████████████████████████| 270 kB 56.3 MB/s \n",
            "\u001b[?25hRequirement already satisfied: attrs>=17.3.0 in /usr/local/lib/python3.7/dist-packages (from aiohttp->gradio) (22.1.0)\n",
            "Requirement already satisfied: typing-extensions>=3.7.4 in /usr/local/lib/python3.7/dist-packages (from aiohttp->gradio) (4.1.1)\n",
            "Requirement already satisfied: charset-normalizer<3.0,>=2.0 in /usr/local/lib/python3.7/dist-packages (from aiohttp->gradio) (2.1.1)\n",
            "Requirement already satisfied: multidict<7.0,>=4.5 in /usr/local/lib/python3.7/dist-packages (from aiohttp->gradio) (6.0.2)\n",
            "Requirement already satisfied: yarl<2.0,>=1.0 in /usr/local/lib/python3.7/dist-packages (from aiohttp->gradio) (1.8.1)\n",
            "Requirement already satisfied: async-timeout<5.0,>=4.0.0a3 in /usr/local/lib/python3.7/dist-packages (from aiohttp->gradio) (4.0.2)\n",
            "Requirement already satisfied: asynctest==0.13.0 in /usr/local/lib/python3.7/dist-packages (from aiohttp->gradio) (0.13.0)\n",
            "Requirement already satisfied: aiosignal>=1.1.2 in /usr/local/lib/python3.7/dist-packages (from aiohttp->gradio) (1.2.0)\n",
            "Requirement already satisfied: frozenlist>=1.1.1 in /usr/local/lib/python3.7/dist-packages (from aiohttp->gradio) (1.3.1)\n",
            "Requirement already satisfied: idna>=2.0 in /usr/local/lib/python3.7/dist-packages (from yarl<2.0,>=1.0->aiohttp->gradio) (2.10)\n",
            "Requirement already satisfied: python-dateutil>2.1 in /usr/local/lib/python3.7/dist-packages (from analytics-python->gradio) (2.8.2)\n",
            "Collecting monotonic>=1.5\n",
            "  Downloading monotonic-1.6-py2.py3-none-any.whl (8.2 kB)\n",
            "Collecting backoff==1.10.0\n",
            "  Downloading backoff-1.10.0-py2.py3-none-any.whl (31 kB)\n",
            "Requirement already satisfied: six>=1.5 in /usr/local/lib/python3.7/dist-packages (from analytics-python->gradio) (1.15.0)\n",
            "Requirement already satisfied: chardet<4,>=3.0.2 in /usr/local/lib/python3.7/dist-packages (from requests->gradio) (3.0.4)\n",
            "Requirement already satisfied: urllib3!=1.25.0,!=1.25.1,<1.26,>=1.21.1 in /usr/local/lib/python3.7/dist-packages (from requests->gradio) (1.24.3)\n",
            "Requirement already satisfied: certifi>=2017.4.17 in /usr/local/lib/python3.7/dist-packages (from requests->gradio) (2022.6.15)\n",
            "Collecting starlette==0.19.1\n",
            "  Downloading starlette-0.19.1-py3-none-any.whl (63 kB)\n",
            "\u001b[K     |████████████████████████████████| 63 kB 2.0 MB/s \n",
            "\u001b[?25hCollecting anyio<5,>=3.4.0\n",
            "  Downloading anyio-3.6.1-py3-none-any.whl (80 kB)\n",
            "\u001b[K     |████████████████████████████████| 80 kB 8.4 MB/s \n",
            "\u001b[?25hCollecting sniffio>=1.1\n",
            "  Downloading sniffio-1.3.0-py3-none-any.whl (10 kB)\n",
            "Collecting rfc3986[idna2008]<2,>=1.3\n",
            "  Downloading rfc3986-1.5.0-py2.py3-none-any.whl (31 kB)\n",
            "Collecting httpcore<0.16.0,>=0.15.0\n",
            "  Downloading httpcore-0.15.0-py3-none-any.whl (68 kB)\n",
            "\u001b[K     |████████████████████████████████| 68 kB 6.1 MB/s \n",
            "\u001b[?25hRequirement already satisfied: MarkupSafe>=0.23 in /usr/local/lib/python3.7/dist-packages (from Jinja2->gradio) (2.0.1)\n",
            "Collecting mdurl~=0.1\n",
            "  Downloading mdurl-0.1.2-py3-none-any.whl (10.0 kB)\n",
            "Collecting linkify-it-py~=1.0\n",
            "  Downloading linkify_it_py-1.0.3-py3-none-any.whl (19 kB)\n",
            "Collecting mdit-py-plugins\n",
            "  Downloading mdit_py_plugins-0.3.0-py3-none-any.whl (43 kB)\n",
            "\u001b[K     |████████████████████████████████| 43 kB 2.1 MB/s \n",
            "\u001b[?25hCollecting uc-micro-py\n",
            "  Downloading uc_micro_py-1.0.1-py3-none-any.whl (6.2 kB)\n",
            "Requirement already satisfied: cycler>=0.10 in /usr/local/lib/python3.7/dist-packages (from matplotlib->gradio) (0.11.0)\n",
            "Requirement already satisfied: pyparsing!=2.0.4,!=2.1.2,!=2.1.6,>=2.0.1 in /usr/local/lib/python3.7/dist-packages (from matplotlib->gradio) (3.0.9)\n",
            "Requirement already satisfied: kiwisolver>=1.0.1 in /usr/local/lib/python3.7/dist-packages (from matplotlib->gradio) (1.4.4)\n",
            "Requirement already satisfied: pytz>=2017.3 in /usr/local/lib/python3.7/dist-packages (from pandas->gradio) (2022.2.1)\n",
            "Collecting bcrypt>=3.1.3\n",
            "  Downloading bcrypt-4.0.0-cp36-abi3-manylinux_2_24_x86_64.whl (594 kB)\n",
            "\u001b[K     |████████████████████████████████| 594 kB 60.1 MB/s \n",
            "\u001b[?25hCollecting pynacl>=1.0.1\n",
            "  Downloading PyNaCl-1.5.0-cp36-abi3-manylinux_2_17_x86_64.manylinux2014_x86_64.manylinux_2_24_x86_64.whl (856 kB)\n",
            "\u001b[K     |████████████████████████████████| 856 kB 49.5 MB/s \n",
            "\u001b[?25hCollecting cryptography>=2.5\n",
            "  Downloading cryptography-38.0.1-cp36-abi3-manylinux_2_24_x86_64.whl (4.0 MB)\n",
            "\u001b[K     |████████████████████████████████| 4.0 MB 36.5 MB/s \n",
            "\u001b[?25hRequirement already satisfied: cffi>=1.12 in /usr/local/lib/python3.7/dist-packages (from cryptography>=2.5->paramiko->gradio) (1.15.1)\n",
            "Requirement already satisfied: pycparser in /usr/local/lib/python3.7/dist-packages (from cffi>=1.12->cryptography>=2.5->paramiko->gradio) (2.21)\n",
            "Requirement already satisfied: click>=7.0 in /usr/local/lib/python3.7/dist-packages (from uvicorn->gradio) (7.1.2)\n",
            "Building wheels for collected packages: ffmpy, python-multipart\n",
            "  Building wheel for ffmpy (setup.py) ... \u001b[?25l\u001b[?25hdone\n",
            "  Created wheel for ffmpy: filename=ffmpy-0.3.0-py3-none-any.whl size=4712 sha256=b8fdcb8f4ca78b10f5568513cfe6ccc7cf1d9d9e188660fd7a9d941e8480e45f\n",
            "  Stored in directory: /root/.cache/pip/wheels/13/e4/6c/e8059816e86796a597c6e6b0d4c880630f51a1fcfa0befd5e6\n",
            "  Building wheel for python-multipart (setup.py) ... \u001b[?25l\u001b[?25hdone\n",
            "  Created wheel for python-multipart: filename=python_multipart-0.0.5-py3-none-any.whl size=31678 sha256=04091e3da77d397971f54ddcd469a99e26b8d5e0eb64be9f878d8ca9097f884f\n",
            "  Stored in directory: /root/.cache/pip/wheels/2c/41/7c/bfd1c180534ffdcc0972f78c5758f89881602175d48a8bcd2c\n",
            "Successfully built ffmpy python-multipart\n",
            "Installing collected packages: sniffio, mdurl, uc-micro-py, rfc3986, markdown-it-py, h11, anyio, starlette, pynacl, monotonic, mdit-py-plugins, linkify-it-py, httpcore, cryptography, bcrypt, backoff, websockets, uvicorn, python-multipart, pydub, pycryptodome, paramiko, orjson, httpx, ffmpy, fastapi, analytics-python, gradio\n",
            "Successfully installed analytics-python-1.4.0 anyio-3.6.1 backoff-1.10.0 bcrypt-4.0.0 cryptography-38.0.1 fastapi-0.84.0 ffmpy-0.3.0 gradio-3.3 h11-0.12.0 httpcore-0.15.0 httpx-0.23.0 linkify-it-py-1.0.3 markdown-it-py-2.1.0 mdit-py-plugins-0.3.0 mdurl-0.1.2 monotonic-1.6 orjson-3.8.0 paramiko-2.11.0 pycryptodome-3.15.0 pydub-0.25.1 pynacl-1.5.0 python-multipart-0.0.5 rfc3986-1.5.0 sniffio-1.3.0 starlette-0.19.1 uc-micro-py-1.0.1 uvicorn-0.18.3 websockets-10.3\n"
          ]
        }
      ]
    },
    {
      "cell_type": "code",
      "source": [
        "import gradio as gr\n",
        "\n",
        "# nlp = spacy.load(\"en_core_web_sm\")\n",
        "nlp = spacy.load(\"/content/model-best\")\n",
        "\n",
        "\n",
        "def text_analysis(text):\n",
        "    doc = nlp(text)\n",
        "    html = displacy.render(doc, style=\"dep\", page=True)\n",
        "    html = (\n",
        "        \"\"\n",
        "        + html\n",
        "        + \"\"\n",
        "    )\n",
        "    pos_count = {\n",
        "        \"char_count\": len(text),\n",
        "        \"token_count\": 0,\n",
        "    }\n",
        "    pos_tokens = []\n",
        "\n",
        "    for token in doc:\n",
        "        pos_tokens.extend([(token.text, token.pos_), (\" \", None)])\n",
        "\n",
        "    return pos_tokens, pos_count, html\n",
        "\n",
        "\n",
        "demo = gr.Interface(\n",
        "    text_analysis,\n",
        "    gr.Textbox(placeholder=\"Enter sentence here...\"),\n",
        "    [\"highlight\", \"json\", \"html\"],\n",
        "    examples=[\n",
        "        [\"Miss Nakityo finalized working on the functionality of the Notifications and Results pages.\"],\n",
        "        [\" She knows programming in HTML and CSS. Prof. Twinomujuni sent the team in Isingiro some 100 USD.\"],\n",
        "         [\"Miss Nakityo was able to work on the Score feature for the students and finish it\" ]\n",
        "       [\"His system’s development supervisor says he is a quick learn and loves to do his assignments in time\"]\n",
        "    ],\n",
        ")\n",
        "\n",
        "demo.launch()"
      ],
      "metadata": {
        "id": "BQuqAA3QKRi9"
      },
      "execution_count": null,
      "outputs": []
    }
  ]
}