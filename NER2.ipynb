{
  "nbformat": 4,
  "nbformat_minor": 0,
  "metadata": {
    "colab": {
      "provenance": [],
      "authorship_tag": "ABX9TyMCwUOHazVG4JYu+b1Qg5VF",
      "include_colab_link": true
    },
    "kernelspec": {
      "name": "python3",
      "display_name": "Python 3"
    },
    "language_info": {
      "name": "python"
    },
    "accelerator": "GPU",
    "gpuClass": "standard"
  },
  "cells": [
    {
      "cell_type": "markdown",
      "metadata": {
        "id": "view-in-github",
        "colab_type": "text"
      },
      "source": [
        "<a href=\"https://colab.research.google.com/github/Ms-Ainebyona/Text-clustering/blob/main/NER2.ipynb\" target=\"_parent\"><img src=\"https://colab.research.google.com/assets/colab-badge.svg\" alt=\"Open In Colab\"/></a>"
      ]
    },
    {
      "cell_type": "code",
      "execution_count": null,
      "metadata": {
        "id": "rMtg5syaeIob"
      },
      "outputs": [],
      "source": [
        "! pip install -U spacy -q"
      ]
    },
    {
      "cell_type": "code",
      "source": [
        "!python -m spacy info"
      ],
      "metadata": {
        "colab": {
          "base_uri": "https://localhost:8080/"
        },
        "id": "-zx3-QOXeYJ9",
        "outputId": "6d471909-a401-4692-a622-6dd9409f8296"
      },
      "execution_count": null,
      "outputs": [
        {
          "output_type": "stream",
          "name": "stdout",
          "text": [
            "\u001b[1m\n",
            "============================== Info about spaCy ==============================\u001b[0m\n",
            "\n",
            "spaCy version    3.4.1                         \n",
            "Location         /usr/local/lib/python3.7/dist-packages/spacy\n",
            "Platform         Linux-5.10.133+-x86_64-with-Ubuntu-18.04-bionic\n",
            "Python version   3.7.13                        \n",
            "Pipelines        en_core_web_sm (3.4.0)        \n",
            "\n"
          ]
        }
      ]
    },
    {
      "cell_type": "code",
      "source": [
        "import spacy\n",
        "from spacy.tokens import DocBin\n",
        "from tqdm import tqdm\n"
      ],
      "metadata": {
        "id": "vtiSmFiVeq4b"
      },
      "execution_count": null,
      "outputs": []
    },
    {
      "cell_type": "code",
      "source": [
        "nlp=spacy.blank(\"en\")\n",
        "db=DocBin()"
      ],
      "metadata": {
        "id": "pNHySCHBfOGU"
      },
      "execution_count": null,
      "outputs": []
    },
    {
      "cell_type": "code",
      "source": [
        "from google.colab import files\n",
        "files.upload()"
      ],
      "metadata": {
        "colab": {
          "resources": {
            "http://localhost:8080/nbextensions/google.colab/files.js": {
              "data": "Ly8gQ29weXJpZ2h0IDIwMTcgR29vZ2xlIExMQwovLwovLyBMaWNlbnNlZCB1bmRlciB0aGUgQXBhY2hlIExpY2Vuc2UsIFZlcnNpb24gMi4wICh0aGUgIkxpY2Vuc2UiKTsKLy8geW91IG1heSBub3QgdXNlIHRoaXMgZmlsZSBleGNlcHQgaW4gY29tcGxpYW5jZSB3aXRoIHRoZSBMaWNlbnNlLgovLyBZb3UgbWF5IG9idGFpbiBhIGNvcHkgb2YgdGhlIExpY2Vuc2UgYXQKLy8KLy8gICAgICBodHRwOi8vd3d3LmFwYWNoZS5vcmcvbGljZW5zZXMvTElDRU5TRS0yLjAKLy8KLy8gVW5sZXNzIHJlcXVpcmVkIGJ5IGFwcGxpY2FibGUgbGF3IG9yIGFncmVlZCB0byBpbiB3cml0aW5nLCBzb2Z0d2FyZQovLyBkaXN0cmlidXRlZCB1bmRlciB0aGUgTGljZW5zZSBpcyBkaXN0cmlidXRlZCBvbiBhbiAiQVMgSVMiIEJBU0lTLAovLyBXSVRIT1VUIFdBUlJBTlRJRVMgT1IgQ09ORElUSU9OUyBPRiBBTlkgS0lORCwgZWl0aGVyIGV4cHJlc3Mgb3IgaW1wbGllZC4KLy8gU2VlIHRoZSBMaWNlbnNlIGZvciB0aGUgc3BlY2lmaWMgbGFuZ3VhZ2UgZ292ZXJuaW5nIHBlcm1pc3Npb25zIGFuZAovLyBsaW1pdGF0aW9ucyB1bmRlciB0aGUgTGljZW5zZS4KCi8qKgogKiBAZmlsZW92ZXJ2aWV3IEhlbHBlcnMgZm9yIGdvb2dsZS5jb2xhYiBQeXRob24gbW9kdWxlLgogKi8KKGZ1bmN0aW9uKHNjb3BlKSB7CmZ1bmN0aW9uIHNwYW4odGV4dCwgc3R5bGVBdHRyaWJ1dGVzID0ge30pIHsKICBjb25zdCBlbGVtZW50ID0gZG9jdW1lbnQuY3JlYXRlRWxlbWVudCgnc3BhbicpOwogIGVsZW1lbnQudGV4dENvbnRlbnQgPSB0ZXh0OwogIGZvciAoY29uc3Qga2V5IG9mIE9iamVjdC5rZXlzKHN0eWxlQXR0cmlidXRlcykpIHsKICAgIGVsZW1lbnQuc3R5bGVba2V5XSA9IHN0eWxlQXR0cmlidXRlc1trZXldOwogIH0KICByZXR1cm4gZWxlbWVudDsKfQoKLy8gTWF4IG51bWJlciBvZiBieXRlcyB3aGljaCB3aWxsIGJlIHVwbG9hZGVkIGF0IGEgdGltZS4KY29uc3QgTUFYX1BBWUxPQURfU0laRSA9IDEwMCAqIDEwMjQ7CgpmdW5jdGlvbiBfdXBsb2FkRmlsZXMoaW5wdXRJZCwgb3V0cHV0SWQpIHsKICBjb25zdCBzdGVwcyA9IHVwbG9hZEZpbGVzU3RlcChpbnB1dElkLCBvdXRwdXRJZCk7CiAgY29uc3Qgb3V0cHV0RWxlbWVudCA9IGRvY3VtZW50LmdldEVsZW1lbnRCeUlkKG91dHB1dElkKTsKICAvLyBDYWNoZSBzdGVwcyBvbiB0aGUgb3V0cHV0RWxlbWVudCB0byBtYWtlIGl0IGF2YWlsYWJsZSBmb3IgdGhlIG5leHQgY2FsbAogIC8vIHRvIHVwbG9hZEZpbGVzQ29udGludWUgZnJvbSBQeXRob24uCiAgb3V0cHV0RWxlbWVudC5zdGVwcyA9IHN0ZXBzOwoKICByZXR1cm4gX3VwbG9hZEZpbGVzQ29udGludWUob3V0cHV0SWQpOwp9CgovLyBUaGlzIGlzIHJvdWdobHkgYW4gYXN5bmMgZ2VuZXJhdG9yIChub3Qgc3VwcG9ydGVkIGluIHRoZSBicm93c2VyIHlldCksCi8vIHdoZXJlIHRoZXJlIGFyZSBtdWx0aXBsZSBhc3luY2hyb25vdXMgc3RlcHMgYW5kIHRoZSBQeXRob24gc2lkZSBpcyBnb2luZwovLyB0byBwb2xsIGZvciBjb21wbGV0aW9uIG9mIGVhY2ggc3RlcC4KLy8gVGhpcyB1c2VzIGEgUHJvbWlzZSB0byBibG9jayB0aGUgcHl0aG9uIHNpZGUgb24gY29tcGxldGlvbiBvZiBlYWNoIHN0ZXAsCi8vIHRoZW4gcGFzc2VzIHRoZSByZXN1bHQgb2YgdGhlIHByZXZpb3VzIHN0ZXAgYXMgdGhlIGlucHV0IHRvIHRoZSBuZXh0IHN0ZXAuCmZ1bmN0aW9uIF91cGxvYWRGaWxlc0NvbnRpbnVlKG91dHB1dElkKSB7CiAgY29uc3Qgb3V0cHV0RWxlbWVudCA9IGRvY3VtZW50LmdldEVsZW1lbnRCeUlkKG91dHB1dElkKTsKICBjb25zdCBzdGVwcyA9IG91dHB1dEVsZW1lbnQuc3RlcHM7CgogIGNvbnN0IG5leHQgPSBzdGVwcy5uZXh0KG91dHB1dEVsZW1lbnQubGFzdFByb21pc2VWYWx1ZSk7CiAgcmV0dXJuIFByb21pc2UucmVzb2x2ZShuZXh0LnZhbHVlLnByb21pc2UpLnRoZW4oKHZhbHVlKSA9PiB7CiAgICAvLyBDYWNoZSB0aGUgbGFzdCBwcm9taXNlIHZhbHVlIHRvIG1ha2UgaXQgYXZhaWxhYmxlIHRvIHRoZSBuZXh0CiAgICAvLyBzdGVwIG9mIHRoZSBnZW5lcmF0b3IuCiAgICBvdXRwdXRFbGVtZW50Lmxhc3RQcm9taXNlVmFsdWUgPSB2YWx1ZTsKICAgIHJldHVybiBuZXh0LnZhbHVlLnJlc3BvbnNlOwogIH0pOwp9CgovKioKICogR2VuZXJhdG9yIGZ1bmN0aW9uIHdoaWNoIGlzIGNhbGxlZCBiZXR3ZWVuIGVhY2ggYXN5bmMgc3RlcCBvZiB0aGUgdXBsb2FkCiAqIHByb2Nlc3MuCiAqIEBwYXJhbSB7c3RyaW5nfSBpbnB1dElkIEVsZW1lbnQgSUQgb2YgdGhlIGlucHV0IGZpbGUgcGlja2VyIGVsZW1lbnQuCiAqIEBwYXJhbSB7c3RyaW5nfSBvdXRwdXRJZCBFbGVtZW50IElEIG9mIHRoZSBvdXRwdXQgZGlzcGxheS4KICogQHJldHVybiB7IUl0ZXJhYmxlPCFPYmplY3Q+fSBJdGVyYWJsZSBvZiBuZXh0IHN0ZXBzLgogKi8KZnVuY3Rpb24qIHVwbG9hZEZpbGVzU3RlcChpbnB1dElkLCBvdXRwdXRJZCkgewogIGNvbnN0IGlucHV0RWxlbWVudCA9IGRvY3VtZW50LmdldEVsZW1lbnRCeUlkKGlucHV0SWQpOwogIGlucHV0RWxlbWVudC5kaXNhYmxlZCA9IGZhbHNlOwoKICBjb25zdCBvdXRwdXRFbGVtZW50ID0gZG9jdW1lbnQuZ2V0RWxlbWVudEJ5SWQob3V0cHV0SWQpOwogIG91dHB1dEVsZW1lbnQuaW5uZXJIVE1MID0gJyc7CgogIGNvbnN0IHBpY2tlZFByb21pc2UgPSBuZXcgUHJvbWlzZSgocmVzb2x2ZSkgPT4gewogICAgaW5wdXRFbGVtZW50LmFkZEV2ZW50TGlzdGVuZXIoJ2NoYW5nZScsIChlKSA9PiB7CiAgICAgIHJlc29sdmUoZS50YXJnZXQuZmlsZXMpOwogICAgfSk7CiAgfSk7CgogIGNvbnN0IGNhbmNlbCA9IGRvY3VtZW50LmNyZWF0ZUVsZW1lbnQoJ2J1dHRvbicpOwogIGlucHV0RWxlbWVudC5wYXJlbnRFbGVtZW50LmFwcGVuZENoaWxkKGNhbmNlbCk7CiAgY2FuY2VsLnRleHRDb250ZW50ID0gJ0NhbmNlbCB1cGxvYWQnOwogIGNvbnN0IGNhbmNlbFByb21pc2UgPSBuZXcgUHJvbWlzZSgocmVzb2x2ZSkgPT4gewogICAgY2FuY2VsLm9uY2xpY2sgPSAoKSA9PiB7CiAgICAgIHJlc29sdmUobnVsbCk7CiAgICB9OwogIH0pOwoKICAvLyBXYWl0IGZvciB0aGUgdXNlciB0byBwaWNrIHRoZSBmaWxlcy4KICBjb25zdCBmaWxlcyA9IHlpZWxkIHsKICAgIHByb21pc2U6IFByb21pc2UucmFjZShbcGlja2VkUHJvbWlzZSwgY2FuY2VsUHJvbWlzZV0pLAogICAgcmVzcG9uc2U6IHsKICAgICAgYWN0aW9uOiAnc3RhcnRpbmcnLAogICAgfQogIH07CgogIGNhbmNlbC5yZW1vdmUoKTsKCiAgLy8gRGlzYWJsZSB0aGUgaW5wdXQgZWxlbWVudCBzaW5jZSBmdXJ0aGVyIHBpY2tzIGFyZSBub3QgYWxsb3dlZC4KICBpbnB1dEVsZW1lbnQuZGlzYWJsZWQgPSB0cnVlOwoKICBpZiAoIWZpbGVzKSB7CiAgICByZXR1cm4gewogICAgICByZXNwb25zZTogewogICAgICAgIGFjdGlvbjogJ2NvbXBsZXRlJywKICAgICAgfQogICAgfTsKICB9CgogIGZvciAoY29uc3QgZmlsZSBvZiBmaWxlcykgewogICAgY29uc3QgbGkgPSBkb2N1bWVudC5jcmVhdGVFbGVtZW50KCdsaScpOwogICAgbGkuYXBwZW5kKHNwYW4oZmlsZS5uYW1lLCB7Zm9udFdlaWdodDogJ2JvbGQnfSkpOwogICAgbGkuYXBwZW5kKHNwYW4oCiAgICAgICAgYCgke2ZpbGUudHlwZSB8fCAnbi9hJ30pIC0gJHtmaWxlLnNpemV9IGJ5dGVzLCBgICsKICAgICAgICBgbGFzdCBtb2RpZmllZDogJHsKICAgICAgICAgICAgZmlsZS5sYXN0TW9kaWZpZWREYXRlID8gZmlsZS5sYXN0TW9kaWZpZWREYXRlLnRvTG9jYWxlRGF0ZVN0cmluZygpIDoKICAgICAgICAgICAgICAgICAgICAgICAgICAgICAgICAgICAgJ24vYSd9IC0gYCkpOwogICAgY29uc3QgcGVyY2VudCA9IHNwYW4oJzAlIGRvbmUnKTsKICAgIGxpLmFwcGVuZENoaWxkKHBlcmNlbnQpOwoKICAgIG91dHB1dEVsZW1lbnQuYXBwZW5kQ2hpbGQobGkpOwoKICAgIGNvbnN0IGZpbGVEYXRhUHJvbWlzZSA9IG5ldyBQcm9taXNlKChyZXNvbHZlKSA9PiB7CiAgICAgIGNvbnN0IHJlYWRlciA9IG5ldyBGaWxlUmVhZGVyKCk7CiAgICAgIHJlYWRlci5vbmxvYWQgPSAoZSkgPT4gewogICAgICAgIHJlc29sdmUoZS50YXJnZXQucmVzdWx0KTsKICAgICAgfTsKICAgICAgcmVhZGVyLnJlYWRBc0FycmF5QnVmZmVyKGZpbGUpOwogICAgfSk7CiAgICAvLyBXYWl0IGZvciB0aGUgZGF0YSB0byBiZSByZWFkeS4KICAgIGxldCBmaWxlRGF0YSA9IHlpZWxkIHsKICAgICAgcHJvbWlzZTogZmlsZURhdGFQcm9taXNlLAogICAgICByZXNwb25zZTogewogICAgICAgIGFjdGlvbjogJ2NvbnRpbnVlJywKICAgICAgfQogICAgfTsKCiAgICAvLyBVc2UgYSBjaHVua2VkIHNlbmRpbmcgdG8gYXZvaWQgbWVzc2FnZSBzaXplIGxpbWl0cy4gU2VlIGIvNjIxMTU2NjAuCiAgICBsZXQgcG9zaXRpb24gPSAwOwogICAgZG8gewogICAgICBjb25zdCBsZW5ndGggPSBNYXRoLm1pbihmaWxlRGF0YS5ieXRlTGVuZ3RoIC0gcG9zaXRpb24sIE1BWF9QQVlMT0FEX1NJWkUpOwogICAgICBjb25zdCBjaHVuayA9IG5ldyBVaW50OEFycmF5KGZpbGVEYXRhLCBwb3NpdGlvbiwgbGVuZ3RoKTsKICAgICAgcG9zaXRpb24gKz0gbGVuZ3RoOwoKICAgICAgY29uc3QgYmFzZTY0ID0gYnRvYShTdHJpbmcuZnJvbUNoYXJDb2RlLmFwcGx5KG51bGwsIGNodW5rKSk7CiAgICAgIHlpZWxkIHsKICAgICAgICByZXNwb25zZTogewogICAgICAgICAgYWN0aW9uOiAnYXBwZW5kJywKICAgICAgICAgIGZpbGU6IGZpbGUubmFtZSwKICAgICAgICAgIGRhdGE6IGJhc2U2NCwKICAgICAgICB9LAogICAgICB9OwoKICAgICAgbGV0IHBlcmNlbnREb25lID0gZmlsZURhdGEuYnl0ZUxlbmd0aCA9PT0gMCA/CiAgICAgICAgICAxMDAgOgogICAgICAgICAgTWF0aC5yb3VuZCgocG9zaXRpb24gLyBmaWxlRGF0YS5ieXRlTGVuZ3RoKSAqIDEwMCk7CiAgICAgIHBlcmNlbnQudGV4dENvbnRlbnQgPSBgJHtwZXJjZW50RG9uZX0lIGRvbmVgOwoKICAgIH0gd2hpbGUgKHBvc2l0aW9uIDwgZmlsZURhdGEuYnl0ZUxlbmd0aCk7CiAgfQoKICAvLyBBbGwgZG9uZS4KICB5aWVsZCB7CiAgICByZXNwb25zZTogewogICAgICBhY3Rpb246ICdjb21wbGV0ZScsCiAgICB9CiAgfTsKfQoKc2NvcGUuZ29vZ2xlID0gc2NvcGUuZ29vZ2xlIHx8IHt9OwpzY29wZS5nb29nbGUuY29sYWIgPSBzY29wZS5nb29nbGUuY29sYWIgfHwge307CnNjb3BlLmdvb2dsZS5jb2xhYi5fZmlsZXMgPSB7CiAgX3VwbG9hZEZpbGVzLAogIF91cGxvYWRGaWxlc0NvbnRpbnVlLAp9Owp9KShzZWxmKTsK",
              "ok": true,
              "headers": [
                [
                  "content-type",
                  "application/javascript"
                ]
              ],
              "status": 200,
              "status_text": ""
            }
          },
          "base_uri": "https://localhost:8080/",
          "height": 1000
        },
        "id": "kbkHBip7LvCH",
        "outputId": "a90ecde7-5b3b-4bd7-f2e4-1d3154c9a376"
      },
      "execution_count": null,
      "outputs": [
        {
          "output_type": "display_data",
          "data": {
            "text/plain": [
              "<IPython.core.display.HTML object>"
            ],
            "text/html": [
              "\n",
              "     <input type=\"file\" id=\"files-e6f9430f-7677-47f4-99ba-562689968a46\" name=\"files[]\" multiple disabled\n",
              "        style=\"border:none\" />\n",
              "     <output id=\"result-e6f9430f-7677-47f4-99ba-562689968a46\">\n",
              "      Upload widget is only available when the cell has been executed in the\n",
              "      current browser session. Please rerun this cell to enable.\n",
              "      </output>\n",
              "      <script src=\"/nbextensions/google.colab/files.js\"></script> "
            ]
          },
          "metadata": {}
        },
        {
          "output_type": "stream",
          "name": "stdout",
          "text": [
            "Saving cop3.json to cop3.json\n"
          ]
        },
        {
          "output_type": "execute_result",
          "data": {
            "text/plain": [
              "{'cop3.json': b'{\"classes\":[\"GPE\",\"DATE\",\"CURRENCY\",\"FIGURE\",\"LOCATION\",\"PERSON\",\"ORG\",\"PERCENTAGE\",\"APPLICATIONS\",\"ELECTRONICS\",\"INSTITUITIONS\",\"ANIMAL\",\"FOOD\",\"WEEK DAY\",\"MONTH\",\"PEOPLE\",\"YEAR\",\"DAY\",\"REGION\"],\"annotations\":[[\"Ugandan authorities restored access to the internet Wednesday, a month after blocking it ahead of the January 14 elections. The government said the disruption was needed for security, while critics say it was intended to cut off communication among opponents of President Yoweri Museveni.\\\\r\",{\"entities\":[[52,61,\"DATE\"],[102,109,\"WEEK DAY\"],[110,112,\"FIGURE\"],[128,138,\"ORG\"],[262,278,\"PERSON\"]]}],[\"\\\\\"Internet and social media services have been fully restored,\\\\\" Ugandan Minister for Information and Communications Technology Peter Ogwang tweeted Wednesday, adding, \\\\\"We apologize for the inconveniences caused, but it was for the security of our country.\\\\\"\\\\r\",{\"entities\":[[126,138,\"PERSON\"],[147,156,\"WEEK DAY\"]]}],[\"A tweet by Peter Ogwang, Ugandan Minister for Information and Communications Technology, announces the restoration to access to social media websites. (Screenshot from Twitter)\\\\r\",{\"entities\":[[11,23,\"PERSON\"],[168,175,\"APPLICATIONS\"]]}],[\"A tweet by Peter Ogwang, Ugandan Minister for Information and Communications Technology, announces the restoration to access to social media websites. (Screenshot from Twitter)\\\\r\",{\"entities\":[[11,16,\"PERSON\"],[17,23,\"PERSON\"],[168,175,\"APPLICATIONS\"]]}],[\"Government spokesman Ofwono Opondo said the shutdown was a method of war against elements that were a threat to the credibility of the elections.\\\\r\",{\"entities\":[[0,10,\"ORG\"],[21,27,\"PERSON\"],[28,34,\"PERSON\"]]}],[\"Since those threats have been greatly neutralized, he said, the government has restored access to social media websites, with the exception of Facebook.\\\\r\",{\"entities\":[[64,74,\"ORG\"],[98,119,\"APPLICATIONS\"],[143,151,\"APPLICATIONS\"]]}],[\"\\\\r\",{\"entities\":[]}],[\"\\\\\"We have released elements of social media \\xe2\\x80\\x94 Twitter, Instagram, Whatsapp \\xe2\\x80\\x94 because we think to a less extent, those are not as lethal as Facebook,\\\\\" Opondo said. \\\\\"So, we shall examine going forward, their posture on these other social media platforms that have been released. And that will inform how soon Facebook is restored.\\\\\"\\\\r\",{\"entities\":[[45,52,\"APPLICATIONS\"],[54,63,\"APPLICATIONS\"],[65,73,\"APPLICATIONS\"],[138,146,\"APPLICATIONS\"],[149,155,\"PERSON\"],[306,314,\"APPLICATIONS\"]]}],[\"\\\\r\",{\"entities\":[]}],[\"Before the January 14 elections, Museveni ordered the blocking of Facebook following reports that the company had shut down 220 accounts linked to the Ministry of Information and Communications Technology.\\\\r\",{\"entities\":[[11,18,\"MONTH\"],[19,21,\"FIGURE\"],[33,41,\"PERSON\"],[66,74,\"APPLICATIONS\"],[124,127,\"FIGURE\"]]}],[\"\\\\r\",{\"entities\":[]}],[\"Facebook said the accounts were fakes or duplicates being used to make posts by Museveni and his son, Lieutenant General Muhoozi Kainerugaba, appear more popular than they were.\\\\r\",{\"entities\":[[0,8,\"APPLICATIONS\"],[80,88,\"PERSON\"],[121,128,\"PERSON\"],[129,140,\"PERSON\"]]}],[\"\\\\r\",{\"entities\":[]}],[\"Some posts from the accounts also targeted the opposition National Unity Platform Party and its presidential candidate, Bobi Wine.\\\\r\",{\"entities\":[[58,87,\"ORG\"],[120,129,\"PERSON\"]]}],[\"\\\\r\",{\"entities\":[]}],[\"National Unity Platform Party spokesperson Joel Senyonyi says Facebook was right to shut down the accounts.\\\\r\",{\"entities\":[[0,23,\"ORG\"],[43,47,\"PERSON\"],[48,56,\"PERSON\"],[62,70,\"APPLICATIONS\"]]}],[\"\\\\r\",{\"entities\":[]}],[\"\\\\\"Government continues to have a grip on social media because they want to control free speech,\\\\\" he said. \\\\\"Because they know that Ugandans pretty much have social media as the avenue for their free expression. And that\\'s why Facebook did carry out its investigations, because there was a lot of propaganda churned out by those government-run social media accounts.\\\\\"\\\\r\",{\"entities\":[[1,11,\"ORG\"],[224,232,\"APPLICATIONS\"]]}],[\"\\\\r\",{\"entities\":[]}],[\"Michael Niyitegeka, an information technology expert, says the shutdown of Facebook is hurting many Ugandans\\' livelihoods because they rely on the social media site for marketing.\\\\r\",{\"entities\":[[0,7,\"PERSON\"],[8,18,\"PERSON\"],[75,83,\"APPLICATIONS\"]]}],[\"\\\\r\",{\"entities\":[]}],[\"\\\\\"Because they don\\'t have the resources to go to radio, they don\\'t have the resources to go on TV. So, their business largely depends on the Facebook market,\\\\\" he said.\\\\r\",{\"entities\":[[48,53,\"ELECTRONICS\"],[94,97,\"ELECTRONICS\"],[140,148,\"APPLICATIONS\"]]}],[\"\\\\r\",{\"entities\":[]}],[\"Dorothy Mukasa, chief executive officer of Unwanted Witness, a digital rights organization, is calling for lawmakers to establish rules on internet access.\\\\r\",{\"entities\":[[0,7,\"PERSON\"],[8,14,\"PERSON\"]]}],[\"\\\\r\",{\"entities\":[]}],[\"\\\\\"What we should be doing as Ugandans is to continue to put the government to account,\\\\\" she said. \\\\\"You know, why did they shut down the internet? And also, ask institutions like parliament or judiciary to put in place guidelines. Because this is bound to happen over and over. Can we have guidelines in place or even a law that really stipulates, when should the internet be disrupted?\\\\\"\\\\r\",{\"entities\":[[63,73,\"ORG\"],[177,187,\"INSTITUITIONS\"],[191,200,\"INSTITUITIONS\"]]}],[\"\\\\r\",{\"entities\":[]}],[\"In the meantime, Ugandans continue to use virtual private networks to access Facebook without paying a social media tax introduced by the government in July 2018.\\\\r\",{\"entities\":[[77,85,\"APPLICATIONS\"],[138,148,\"ORG\"],[152,156,\"MONTH\"],[157,161,\"YEAR\"]]}],[\"On Friday August 12, 2022, a team of Researchers from Michigan State University, Kosmos Innovation Centre in Accra, Ghana and the Africa Centre for Economic Transformation (ACET) visited and engaged with the team at Makerere University Research and Innovations Fund (Mak-RIF) and the Grants Administration and Management Support Unit (GAMSU). Prof. Grace Bantebya participated in this engagement and this was an opportunity for the Mak-RIF team to share details about Mak-RIF and GAMSU while highlighting some of the research and innovation outputs as shared on https://rif.mak.ac.ug/.\\\\r\",{\"entities\":[[3,9,\"WEEK DAY\"],[10,16,\"MONTH\"],[17,19,\"FIGURE\"],[21,25,\"YEAR\"],[54,79,\"INSTITUITIONS\"],[81,105,\"ORG\"],[109,114,\"LOCATION\"],[116,121,\"GPE\"],[130,171,\"ORG\"],[216,235,\"INSTITUITIONS\"],[267,274,\"ORG\"],[335,340,\"ORG\"],[349,354,\"PERSON\"],[355,363,\"PERSON\"],[432,439,\"ORG\"],[468,475,\"ORG\"],[480,485,\"ORG\"]]}],[\"\\\\r\",{\"entities\":[]}],[\"\\xe2\\x80\\x9cRIF is at a stage where we are looking to consolidate and broaden networks, partnerships and build on what is being done\\xe2\\x80\\x9d said Prof. Grace Bantebya. We are happy to promote our strategy of working with teams both within and outside Makerere University and Uganda.\\\\r\",{\"entities\":[[0,4,\"ORG\"],[134,139,\"PERSON\"],[140,149,\"PERSON\"],[233,252,\"INSTITUITIONS\"],[257,263,\"GPE\"]]}],[\"\\\\r\",{\"entities\":[]}],[\"In Makerere University, the College of Agricultural and Environmental Sciences (CAES) has received funding for over 100 projects with a focus on the areas of value addition, combating malnutrition, Low-cost irrigation and agriculture, reducing post-harvest loss among other disciplines. Some of the projects funded include; developing dry season feeding technologies for cattle production, packaging pig semen for artificial insemination in pig producing districts, automated boreholes and a low-cost seed cleaner among others.\\\\r\",{\"entities\":[[3,22,\"INSTITUITIONS\"],[80,84,\"ORG\"],[116,119,\"FIGURE\"],[371,377,\"ANIMAL\"],[400,403,\"ANIMAL\"],[441,444,\"ANIMAL\"]]}],[\"\\\\r\",{\"entities\":[]}],[\"Discussions with the visiting research team in the Mak-RIF Boardroom on 12th August, 2022.\\\\r\",{\"entities\":[[51,58,\"ORG\"],[72,76,\"DAY\"],[77,83,\"MONTH\"],[85,89,\"YEAR\"]]}],[\"Discussions with the visiting research team in the Mak-RIF Boardroom on 12th August, 2022.\\\\r\",{\"entities\":[[51,58,\"ORG\"]]}],[\"Currently, the Mak-RIF team is seeking support on commercialization. We should have some discussions on how best to secure partnership for commercialization of some of the research outputs.  Ms. Gloria Naggayi, Mak-RIF Research Support Officer noted that the Mak-CAES research and innovation teams were yielding more tangible outputs every year and these need to move to take steps forward\\\\r\",{\"entities\":[[15,22,\"ORG\"],[195,201,\"PERSON\"],[202,209,\"PERSON\"],[211,218,\"ORG\"],[259,267,\"ORG\"]]}],[\"\\\\r\",{\"entities\":[]}],[\"It is important that we brainstorm and coin possible ways through which other partners and organizations can fit into the Mak-RIF priorities\\xe2\\x80\\x9d said Dr. John Bonnell, Director Borlaug Higher Education for Agricultural Research and Development (BHEARD) https://www.canr.msu.edu/bheard/ at Michigan State University.\\\\r\",{\"entities\":[[122,129,\"ORG\"],[147,150,\"PERSON\"],[151,155,\"PERSON\"],[156,163,\"PERSON\"],[242,248,\"ORG\"]]}],[\"Could we also together explore technical partnerships with international partners, working with Innovation Centers e.g., Kosmos Innovation Center, ACET among others to yield more results?\\xe2\\x80\\x9d.\\\\r\",{\"entities\":[[121,145,\"ORG\"],[145,151,\"ORG\"]]}],[\"Mindset shift is important; \\xe2\\x80\\x9ccan we use Design Thinking to change the way things are perceived and being done?\\xe2\\x80\\x9d said Benjamin Gyan Kesse from Kosmos Innovation Center. There is need for this mind set shift so that we create solutions for the existing problems and not creating solutions then looking for problems.\\\\r\",{\"entities\":[[117,125,\"PERSON\"],[126,130,\"PERSON\"],[131,136,\"PERSON\"],[142,167,\"ORG\"]]}],[\"Makerere University could also explore attaching incentives to innovation and other achievements for example, can we have patents weighed the same way as publications, publications are used for promotion purposes too. These, it was noted motivates faculty and students to move forth with their work while boosting their efforts.\\\\r\",{\"entities\":[[0,19,\"INSTITUITIONS\"]]}],[\"With experience, it is also meaningful to put big money on a few things and yield more. The team was encouraged to meet with Prof. Gorettie Nabanoga, Principal at CAES to tap into knowledge and skills from the Mak-CAES Innovation Scholars Program. Think through how faculty and students are utilizing their hours.\\\\r\",{\"entities\":[[125,130,\"PERSON\"],[131,139,\"PERSON\"],[140,148,\"PERSON\"],[163,167,\"ORG\"],[210,218,\"ORG\"]]}],[\"It is also important to introduce the Mak-RIF Grants Management Committee to a mindset shift engagement so that together we can recruit others to \\xe2\\x80\\x9cmindset shift\\xe2\\x80\\x9d. How to do this is something that can also be further brainstormed.\\\\r\",{\"entities\":[[38,45,\"ORG\"]]}],[\"There was need to strategically think of mapping our partners here in Uganda and reach out to them one by one. As you engage to seek partnership and or collaboration, \\xe2\\x80\\x9cIt is important that you stipulate what is in it for each partner\\xe2\\x80\\x9d shared Ms. Freda Yawson, Senior Manager Infrastructure and Innovation at ACET.\\\\r\",{\"entities\":[[242,245,\"PERSON\"],[246,251,\"PERSON\"],[252,258,\"PERSON\"],[308,312,\"ORG\"]]}],[\"The team discussed more on enhancing collaborations with Business incubators, getting Ugandan products out to other countries, how can we make processes more efficient, and how to make use of the media to showcase our products. There is need to look for partnerships that make teams stronger and engaging the private sector in various ways.\\\\r\",{\"entities\":[]}],[\"We also need to task our researchers (After doing their research) to show us what their research means to the community.\\\\r\",{\"entities\":[]}],[\"In bimodal areas, poor rainfall has resulted in below-average first season crop production. In many northern, central, southwestern, and eastern areas, maize has wilted and dried up more extensively in June and July, leading to estimated losses of at least 30 percent. Abnormal dryness exacerbated by above-average temperatures has also impacted other annual and perennial crops. This poor production season follows two consecutive below-average harvests in 2021. Given this and significantly above-average prices, widespread Stressed (IPC Phase 2) outcomes are expected in the greater north and Teso, and a rapidly growing number of households in central Uganda are also experiencing Stressed (IPC Phase 2) and Crisis (IPC Phase 3) outcomes.\\\\r\",{\"entities\":[[100,108,\"REGION\"],[110,117,\"REGION\"],[119,131,\"REGION\"],[137,144,\"REGION\"],[152,157,\"FOOD\"],[202,206,\"MONTH\"],[211,215,\"MONTH\"],[257,268,\"PERCENTAGE\"],[458,463,\"YEAR\"],[586,591,\"REGION\"],[596,600,\"REGION\"],[656,662,\"GPE\"]]}],[\"\\\\r\",{\"entities\":[]}],[\"As of mid-July, significantly below-average vegetation conditions persist over most districts of the cattle corridor in the southwest, central, and northern parts of Uganda. Livestock body conditions and milk productivity are reportedly below average with severely affected areas facing severe shortages of pasture and water already. Given the forecast for another below-average rainy season from September to November 2022, typical restoration of pasture and water resources is unlikely, and second season crop production is expected to be below average. As such, subsistence households are expected to continue experiencing below-average food availability from crop and livestock production and constrained food access through at least January 2023, even during the July to September 2022 post-harvest period.\\\\r\",{\"entities\":[[6,14,\"MONTH\"],[101,107,\"ANIMAL\"],[124,133,\"REGION\"],[135,142,\"REGION\"],[148,156,\"REGION\"],[166,173,\"GPE\"],[204,208,\"FOOD\"],[397,406,\"MONTH\"],[410,418,\"MONTH\"],[419,423,\"YEAR\"],[738,745,\"MONTH\"],[746,750,\"YEAR\"],[768,772,\"MONTH\"],[776,785,\"MONTH\"],[786,790,\"YEAR\"]]}],[\"\\\\r\",{\"entities\":[]}],[\"In Karamoja, area-level Crisis (IPC Phase 3) outcomes are expected, with an increasing number of the poorest households likely facing Emergency (IPC Phase 4) outcomes characterized by severely inadequate food intake and widening food consumption gaps. Normally in July, the local green sorghum harvest and other dry foods harvested from neighboring areas increase household and markets supplies in Karamoja, ending the lean season. However, this year, the harvest is expected to be delayed and significantly below-average in August/September. Across Karamoja reference markets, retail prices for sorghum grain increased by 17-26 percent from May to June, and prices of staple foods and other goods are significantly above average. At the same time, worsening insecurity this year has disrupted livelihoods and led to losses of livestock and other assets, and agricultural labor opportunities have been below average. This follows three consecutive years of below-average crop production, which has eroded households\\xe2\\x80\\x99 ability to cope.\\\\r\",{\"entities\":[[3,11,\"REGION\"],[264,268,\"MONTH\"],[398,406,\"REGION\"],[525,542,\"MONTH\"],[550,558,\"REGION\"],[623,636,\"PERCENTAGE\"],[642,645,\"MONTH\"],[649,653,\"MONTH\"]]}],[\"\\\\r\",{\"entities\":[]}],[\"In Karamoja, available evidence suggests growing populations of malnourished children and elderly people. The WFP continues to provide food and nutrition support in the form of school meals, supplementary feeding, and therapeutic treatment of malnourished children. Meanwhile, Uganda\\xe2\\x80\\x99s Office of the Prime Minister is providing food assistance to vulnerable households for three months beginning in July. Additionally, in mid-July, 82 million USD of new donor funding was announced to support the emergency needs of the people of Uganda, including food and nutrition support to more than 83,000 people in Karamoja, though details are forthcoming.\\\\r\",{\"entities\":[[3,11,\"REGION\"],[110,113,\"ORG\"],[300,314,\"PERSON\"],[399,404,\"MONTH\"],[422,430,\"MONTH\"],[432,434,\"FIGURE\"],[443,446,\"CURRENCY\"],[530,536,\"GPE\"],[588,594,\"FIGURE\"],[605,613,\"REGION\"]]}],[\"\\\\r\",{\"entities\":[]}],[\"Ugandan staples continue to be attractive to importers from Kenya and South Sudan amidst tight supplies. Though Uganda\\xe2\\x80\\x99s supplies have likely been somewhat bolstered by maize imports from Malawi and Zambia and beans from Rwanda (via Tanzania), this significant regional demand is reducing market stocks to very low levels in many areas, putting additional upward pressure on domestic prices. From January to June 2022, the price of beans has increased by 22 percent in eastern Uganda, 32-47 percent in northern Uganda, and 20-31 percent in western Uganda. In the same time period, the retail price of maize grain increased 30-47 percent across the eastern, northern, and western regions. Prices of staple commodities are expected to remain above levels recorded last year and the five-year average through at least January 2023, given unfavorable second season production prospects. According to the Bank of Uganda\\xe2\\x80\\x99s July 2022 Monetary Policy Statement, the annual headline inflation rate increased from 6.3 percent in May to 6.8 percent in June and is now forecast to increase further, averaging 7.4 percent in 2022. Since May, the Uganda shilling has also been depreciating.\\\\r\",{\"entities\":[[60,65,\"GPE\"],[70,81,\"GPE\"],[112,120,\"GPE\"],[169,174,\"FOOD\"],[188,194,\"GPE\"],[199,205,\"GPE\"],[210,215,\"FOOD\"],[221,227,\"GPE\"],[233,241,\"GPE\"],[397,404,\"MONTH\"],[408,412,\"MONTH\"],[413,417,\"YEAR\"],[455,465,\"PERCENTAGE\"],[469,476,\"REGION\"],[477,483,\"GPE\"],[485,498,\"PERCENTAGE\"],[502,510,\"REGION\"],[511,517,\"GPE\"],[523,536,\"PERCENTAGE\"],[540,547,\"REGION\"],[548,555,\"GPE\"],[601,606,\"FOOD\"],[607,612,\"FOOD\"],[623,636,\"PERCENTAGE\"],[648,655,\"REGION\"],[657,665,\"REGION\"],[671,678,\"REGION\"],[815,822,\"MONTH\"],[823,827,\"YEAR\"],[917,921,\"MONTH\"],[922,926,\"YEAR\"],[1004,1015,\"PERCENTAGE\"],[1019,1022,\"MONTH\"],[1026,1037,\"PERCENTAGE\"],[1041,1045,\"MONTH\"],[1097,1108,\"PERCENTAGE\"],[1112,1117,\"YEAR\"],[1124,1127,\"MONTH\"],[1133,1139,\"GPE\"]]}],[\"\\\\r\",{\"entities\":[]}],[\"According to UNHCR/OPM, as of mid-July, 79,274 refugees and asylum seekers (24,004 from South Sudan and 55,270 from the DRC) have arrived in Uganda since the start of 2022. Settled refugee households receive full rations of humanitarian food assistance for the first three months, and thereafter refugees receive humanitarian food assistance rations equivalent to an estimated 40, 60, or 70 percent of households\\xe2\\x80\\x99 total energy needs. However, below-average income-earning and above-average and rising prices are expected to continue driving declining purchasing power throughout the projection period. Additionally, given below-average first season crop production, stocks from the harvests will likely be depleted in less than a month. A growing number of refugee households will likely be unable to meet all food and essential non-food needs, with Stressed! (IPC Phase 2!) outcomes expected to persist until the next harvest in January, supported by significant assistance, though with an increasinumber of households likely facing consumption gaps and Crisis (IPC Phase 3) or worse outcomes, especially in settlements where assistance rations are 40-60 percent. However, in mid-July, more than 61 million USD and 6 million EUR of new donor funding was announced to support the provision of food and non-food assistance to refugees, though details are forthcoming.\\\\r\",{\"entities\":[[13,22,\"ORG\"],[30,38,\"MONTH\"],[40,46,\"FIGURE\"],[76,82,\"FIGURE\"],[88,99,\"GPE\"],[104,110,\"FIGURE\"],[120,123,\"GPE\"],[141,147,\"GPE\"],[167,172,\"YEAR\"],[367,398,\"PERCENTAGE\"],[810,814,\"FOOD\"],[829,837,\"FOOD\"],[1150,1164,\"PERCENTAGE\"],[1197,1207,\"FIGURE\"],[1208,1211,\"CURRENCY\"],[1216,1225,\"FIGURE\"],[1226,1229,\"CURRENCY\"]]}],[\"Faith has exhibited enthusiasm in taking on the project at hand. She has already shown promising signs in understanding the core concepts of software engineering. I look forward discovering more as time goes on.\\\\r\",{\"entities\":[[0,5,\"PERSON\"]]}],[\"He now has now understood the structure of grails and how different components relate. Understands the process of getting API\\'s from MTN\\\\r\",{\"entities\":[[122,125,\"APPLICATIONS\"],[133,136,\"ORG\"]]}],[\"The Intern was oriented on ICT setup and Infrastructure of Soroti University, drafted workplan and started off the Internship. Simon was encouraged to take the Internship seriously as there was a lot to learn.\\\\r\",{\"entities\":[[59,76,\"INSTITUITIONS\"],[127,132,\"PERSON\"]]}],[\"The student was oriented on the organization structure, developed workplan for the 4 week internship and participated in assessment of printers for servicing.  He acquired both technical and teamwork skills at workplace.\\\\r\",{\"entities\":[[83,84,\"FIGURE\"]]}],[\"Activities well completed\\\\r\",{\"entities\":[]}],[\"finished on time\\\\r\",{\"entities\":[]}],[\"The student\\'s weekly progress was justifiably good, characterized with enthusiasm to learning more.\\\\r\",{\"entities\":[]}],[\"Noted\\\\r\",{\"entities\":[]}],[\"She found this very interesting as she was able to identify, know problems associated an his to overcome them.\\\\r\",{\"entities\":[]}],[\"Partially done, expected a better result based on Steven\\'s experienced. More effort needed ...\\\\r\",{\"entities\":[[50,56,\"PERSON\"]]}],[\"Done to partial satisfaction. Hopefully learning points were picked.\\\\r\",{\"entities\":[]}],[\"Confirmed done as specified.\\\\r\",{\"entities\":[]}],[\"He faced some problem of identifying the symbols, and other parts but he asked questions and made an effort to learn. Very good\\\\r\",{\"entities\":[]}],[\"This activity took some time to be completed, but it was completed to my satisfaction.\\\\r\",{\"entities\":[]}],[\"He knows the requirements of how and his to install, setting up a network and managing it.\\\\r\",{\"entities\":[]}],[\"A little delays and constant supervision. The task has been finally completed, and reviewed by the line supervisor. Good job Mahad.\\\\r\",{\"entities\":[[125,130,\"PERSON\"]]}],[\"He seemed not to have an idea about setting up a structured network but now I know he can do a lot more\\\\r\",{\"entities\":[]}],[\"Student learnt and demonstrated system administration skill by creating emails for drivers, performed data backups, and troubleshooting of computer hardware and local area network.\\\\r\",{\"entities\":[]}],[\"Noted and tasks completed\\\\r\",{\"entities\":[]}],[\"Stephen was diligent in his work. He made effort to resolve issues that were assigned to him.\\\\r\",{\"entities\":[[0,7,\"PERSON\"]]}],[\"\\\\r\",{\"entities\":[]}],[\"He has a quick understanding of technical problems and he tries his best to solve them independently. \\\\r\",{\"entities\":[]}],[\"\\\\r\",{\"entities\":[]}],[\"Stephen is a quick learner and he has great future ahead of him in the software engineering field.\\\\r\",{\"entities\":[[0,7,\"PERSON\"]]}],[\"Noted and confirmed\\\\r\",{\"entities\":[]}],[\"He has very good knowledge of the whole process of installation.\\\\r\",{\"entities\":[]}],[\"Learning target achieved\\\\r\",{\"entities\":[]}],[\"She has knowledge of this topic and can identify and use the devices\\\\r\",{\"entities\":[]}],[\"I assigned him two tasks.  One was to learn the basics of software engineering (That is building architecture and the software process work flaw), and he has done them well. I  wanted him to learn git so that we can be working remotely as he learns, therefore I will be monitoring his code from Github. I realized that previously he knew nothing about Git, but now he knows something that can get him started.\\\\r\",{\"entities\":[[295,302,\"APPLICATIONS\"],[352,355,\"APPLICATIONS\"]]}],[\"I assigned him two tasks.  One was to learn the basics of software engineering (That is building architecture and the software process work flaw), and he has done them well. I wanted him to learn git so that we can be working remotely as he learns, therefore I will be monitoring his code from Github. I realized that previously he knew nothing about Git, but now he knows something that can get him started.\\\\r\",{\"entities\":[]}],[\"He was still having problems with using Jquery and Vue JS on the same interface, I advised him to use different master pages and only use the same CSS on both to avoid conflicts. But he is still working, it is steady progress\\\\r\",{\"entities\":[[40,46,\"APPLICATIONS\"],[51,57,\"APPLICATIONS\"],[147,150,\"APPLICATIONS\"]]}],[\"Good attitude and resilience. This is a good start\\\\r\",{\"entities\":[]}],[\"He is very interested in learning new things like the commands for system admins and other things otherwise very well performed\\\\r\",{\"entities\":[]}],[\"Good progress. I expect more from the student as we work together during this period.\\\\r\",{\"entities\":[]}],[\"Good time keeper with much interest on networks\\\\r\",{\"entities\":[]}],[\"Maintains good working relationships with coworkers.\\\\r\",{\"entities\":[]}],[\"Has a good attendance record.\\\\r\",{\"entities\":[]}],[\"Error rate is acceptable, and all work is completed timely.\\\\r\",{\"entities\":[]}],[\"Took him some time to catch up with UNIX commands but great performance\\\\r\",{\"entities\":[[36,40,\"APPLICATIONS\"]]}],[\"He\\'s a quick learner, has a few ideas on the wordpress tasks and he\\'s copying well.\\\\r\",{\"entities\":[]}],[\"The student was able to install printer drivers. He was able to demonstrate file transfer through file access links on different computers. He was able to identify the compatible RAM  for the computer in question. He also was able to create rules to folders in MS outlook 2010.\\\\r\",{\"entities\":[[264,271,\"APPLICATIONS\"]]}],[\"With more practice, he will be able to operate with minimal supervision.\\\\r\",{\"entities\":[]}],[\"She needs more practice otherwise very interested\\\\r\",{\"entities\":[]}],[\"She knows about her hardware and can identify and troubleshoot related problems\\\\r\",{\"entities\":[]}],[\"The student is well organized, willing to learn and innovative\\\\r\",{\"entities\":[]}],[\"As stated, the internet blackout halted progress.\\\\r\",{\"entities\":[]}],[\"She has already learned the basics of data analysis in pandas, which is key to the main task which is developing data visualizations. \\\\r\",{\"entities\":[[55,61,\"APPLICATIONS\"]]}],[\"She has also presented a conceptual model for the API design for the data that will be required to implement the dashboards.\\\\r\",{\"entities\":[[50,53,\"APPLICATIONS\"]]}],[\"This part was challenging to him especially with the configurations and terminations otherwise he makes effort to see that things work at the end of it all\\\\r\",{\"entities\":[]}],[\"I gave him a task to work (improve) on the front end of a system that is already in production at this company, and he has been progressing well, I realized he knows some programming concepts, so I need to introduce him to real-world problems so he can find solutions to them. He is generally doing well, he will ask where he does not understand.\\\\r\",{\"entities\":[]}],[\"He has some knowledge about IP addresses and now is able to put them in practice\\\\r\",{\"entities\":[]}],[\"quite impressive\\\\r\",{\"entities\":[]}],[\"This week went well. Had a fair amount of tech debt clearance and some feature additions.\\\\r\",{\"entities\":[]}],[\"This week had good development momentum. No issues from me.\\\\r\",{\"entities\":[]}],[\"He knows about IP addresses which is very good and now I believe he knows how to enter them and interconnect and configure different devices\\\\r\",{\"entities\":[]}],[\"This week had slower momentum due to some miscalculations on our part.\\\\r\",{\"entities\":[]}],[\"This week\\'s work was mostly about reducing tech debt and improving pull request quality. There is a lot of progress being made on this front by all team members.\\\\r\",{\"entities\":[]}],[\"No notable issues came up to my attention in regard to tasks execution. I am also happy that Benjamin gets to help out on pull request reviews.\\\\r\",{\"entities\":[[93,101,\"PERSON\"]]}],[\"Tasks execution went well. No notable issues from me per their execution.\\\\r\",{\"entities\":[]}],[\"OK\\\\r\",{\"entities\":[]}],[\"This weeks progress was derailed due to Health issues by Benjamin. We hope next week will be better.\\\\r\",{\"entities\":[[57,66,\"PERSON\"]]}],[\"Tasks execution went well. No notable issues from me per their execution.\\\\r\",{\"entities\":[]}],[\"Good attempt and great enthusiasm\\\\r\",{\"entities\":[]}],[\"This was new to him but now is well knowledgeable about setting up a network\\\\r\",{\"entities\":[]}],[\"The student acquired skills in networks. Simon was very participative and inquisitive to learn more.\\\\r\",{\"entities\":[[41,46,\"PERSON\"]]}],[\"She can identify and troubleshoot the different components of a UPS\\\\r\",{\"entities\":[]}],[\"The student acquired hands on skills on installation and configuration of network devices and network layout.\\\\r\",{\"entities\":[[4,11,\"PERSON\"]]}],[\"She has performed well as she is asking and contributing to the identification and solving problems associated with a UPS\\\\r\",{\"entities\":[]}],[\"She is now knowledgeable about the different symbols associated with a UPS\\\\r\",{\"entities\":[]}],[\"She is able to identify the different parts of a computer. Very good\\\\r\",{\"entities\":[]}],[\"She has performed very well as she can identity the different components\\\\r\",{\"entities\":[]}],[\"She has the knowledge but finds difficulty when starting the installation process\\\\r\",{\"entities\":[]}],[\"She has performed this very well with no hardship\\\\r\",{\"entities\":[]}],[\"The process is kind of challenging especially with the bios page otherwise during the installation she follows quite well\\\\r\",{\"entities\":[]}],[\"She needs more practice in terminating cables otherwise has knowledge of networking\\\\r\",{\"entities\":[]}],[\"She has learnt how the aspects of wireless networks work and can put them in practice\\\\r\",{\"entities\":[]}],[\"This is new to her but is serious on knowing what should be done\\\\r\",{\"entities\":[]}],[\"Notable presence of passion for graphics design and development\\\\r\",{\"entities\":[]}],[\"She quickly adapted to the use of Javascript for front end development however if possible more research in that direction would increase perfection hence help her to work faster\\\\r\",{\"entities\":[[34,44,\"APPLICATIONS\"]]}],[\"He was given a task to do different code snippets with PHP before he can start on a real-world project, He has done well all the basics of PHP  With this he is good to go, Next is going to be combining JS, PHP, MySQL, and HTML. This will put him at a level of programming small projects for the start.\\\\r\",{\"entities\":[[139,142,\"APPLICATIONS\"],[202,204,\"APPLICATIONS\"],[206,209,\"APPLICATIONS\"],[211,216,\"APPLICATIONS\"],[222,227,\"APPLICATIONS\"]]}],[\"Student started learning how to deal in corporate environments.\\\\r\",{\"entities\":[[0,7,\"PERSON\"]]}],[\"The student took on a new language and development platform - Django and Python and progressed well on a weekly basis, managing to develop a task management application for the development unit.\\\\r\",{\"entities\":[[4,11,\"PERSON\"],[62,68,\"APPLICATIONS\"],[73,79,\"APPLICATIONS\"]]}],[\"Good start. More research needed.\\\\r\",{\"entities\":[]}],[\"Good attitude towards challenges and willingness to learn. Well done.\\\\r\",{\"entities\":[]}],[\"MS Angella is very smart, articulate, calm, ready to learn and willing to face the challenge. Ms Angella settles in well with the existing team who warmly welcomed her. Good luck with this attachment.\\\\r\",{\"entities\":[[3,10,\"PERSON\"],[97,104,\"PERSON\"]]}],[\"Some more bug fixes and task finally completed. A report submitted, and I have reviewed the task. I should say, this was good progress.\\\\r\",{\"entities\":[]}],[\"Also setup cPanel, uploaded the site files and enabled SSL. \\\\r\",{\"entities\":[]}],[\"A few bugs to be sorted though.\\\\r\",{\"entities\":[]}],[\"Well done\\\\r\",{\"entities\":[]}],[\"Mary lives in a village called Nyamuyanja, along Isingiro road. She is a student of the makerere university. She is in 2nd year.\",{\"entities\":[[0,4,\"PERSON\"],[31,41,\"REGION\"],[49,57,\"LOCATION\"],[73,80,\"PERSON\"],[88,108,\"INSTITUITIONS\"],[119,127,\"YEAR\"]]}]]}'}"
            ]
          },
          "metadata": {},
          "execution_count": 5
        }
      ]
    },
    {
      "cell_type": "code",
      "source": [
        "import json\n",
        "y = open('cop3.json')\n",
        "TRAIN_DATA = json.load(y)"
      ],
      "metadata": {
        "id": "Ap8POb2jvp2X"
      },
      "execution_count": null,
      "outputs": []
    },
    {
      "cell_type": "code",
      "source": [
        "for text, annot in tqdm(TRAIN_DATA['annotations']): \n",
        "    doc = nlp.make_doc(text) \n",
        "    ents = []\n",
        "    for start, end, label in annot[\"entities\"]:\n",
        "        span = doc.char_span(start, end, label=label, alignment_mode=\"contract\")\n",
        "        if span is None:\n",
        "            print(\"Skipping entity\")\n",
        "        else:\n",
        "            ents.append(span)\n",
        "    doc.ents = ents \n",
        "    db.add(doc)\n",
        "\n",
        "db.to_disk(\"./cop3.spacy\") # save the docbin object"
      ],
      "metadata": {
        "colab": {
          "base_uri": "https://localhost:8080/"
        },
        "id": "skGhGBzxwG5G",
        "outputId": "66697b65-6eb3-4ee9-cffb-a8867f7c300d"
      },
      "execution_count": null,
      "outputs": [
        {
          "output_type": "stream",
          "name": "stderr",
          "text": [
            "100%|██████████| 148/148 [00:00<00:00, 1795.45it/s]\n"
          ]
        }
      ]
    },
    {
      "cell_type": "code",
      "source": [
        "! python -m spacy init config config.cfg --lang en --pipeline ner --optimize efficiency"
      ],
      "metadata": {
        "colab": {
          "base_uri": "https://localhost:8080/"
        },
        "id": "18SxjXkQwcDl",
        "outputId": "8376c3d7-434c-487b-9a6d-80f8503bdcb1"
      },
      "execution_count": null,
      "outputs": [
        {
          "output_type": "stream",
          "name": "stdout",
          "text": [
            "\u001b[38;5;3m⚠ To generate a more effective transformer-based config (GPU-only),\n",
            "install the spacy-transformers package and re-run this command. The config\n",
            "generated now does not use transformers.\u001b[0m\n",
            "\u001b[38;5;4mℹ Generated config template specific for your use case\u001b[0m\n",
            "- Language: en\n",
            "- Pipeline: ner\n",
            "- Optimize for: efficiency\n",
            "- Hardware: CPU\n",
            "- Transformer: None\n",
            "\u001b[38;5;2m✔ Auto-filled config with all values\u001b[0m\n",
            "\u001b[38;5;2m✔ Saved config\u001b[0m\n",
            "config.cfg\n",
            "You can now add your data and train your pipeline:\n",
            "python -m spacy train config.cfg --paths.train ./train.spacy --paths.dev ./dev.spacy\n"
          ]
        }
      ]
    },
    {
      "cell_type": "code",
      "source": [
        "! python -m spacy train config.cfg --output ./ --paths.train ./cop3.spacy --paths.dev ./cop3.spacy"
      ],
      "metadata": {
        "colab": {
          "base_uri": "https://localhost:8080/"
        },
        "id": "bGfWXiuKwcrI",
        "outputId": "cb0ae5fa-6eae-4964-9da9-ef581a1df23c"
      },
      "execution_count": null,
      "outputs": [
        {
          "output_type": "stream",
          "name": "stdout",
          "text": [
            "\u001b[38;5;4mℹ Saving to output directory: .\u001b[0m\n",
            "\u001b[38;5;4mℹ Using CPU\u001b[0m\n",
            "\u001b[38;5;4mℹ To switch to GPU 0, use the option: --gpu-id 0\u001b[0m\n",
            "\u001b[1m\n",
            "=========================== Initializing pipeline ===========================\u001b[0m\n",
            "[2022-09-08 21:58:48,537] [INFO] Set up nlp object from config\n",
            "INFO:spacy:Set up nlp object from config\n",
            "[2022-09-08 21:58:48,549] [INFO] Pipeline: ['tok2vec', 'ner']\n",
            "INFO:spacy:Pipeline: ['tok2vec', 'ner']\n",
            "[2022-09-08 21:58:48,552] [INFO] Created vocabulary\n",
            "INFO:spacy:Created vocabulary\n",
            "[2022-09-08 21:58:48,553] [INFO] Finished initializing nlp object\n",
            "INFO:spacy:Finished initializing nlp object\n",
            "[2022-09-08 21:58:48,802] [INFO] Initialized pipeline components: ['tok2vec', 'ner']\n",
            "INFO:spacy:Initialized pipeline components: ['tok2vec', 'ner']\n",
            "\u001b[38;5;2m✔ Initialized pipeline\u001b[0m\n",
            "\u001b[1m\n",
            "============================= Training pipeline =============================\u001b[0m\n",
            "\u001b[38;5;4mℹ Pipeline: ['tok2vec', 'ner']\u001b[0m\n",
            "\u001b[38;5;4mℹ Initial learn rate: 0.001\u001b[0m\n",
            "E    #       LOSS TOK2VEC  LOSS NER  ENTS_F  ENTS_P  ENTS_R  SCORE \n",
            "---  ------  ------------  --------  ------  ------  ------  ------\n",
            "  0       0          0.00     75.12    0.86    0.50    3.10    0.01\n",
            "  4     200       3209.66   2504.39   59.80   62.45   57.36    0.60\n",
            " 10     400      35283.10   1061.71   88.28   88.98   87.60    0.88\n",
            " 16     600        318.25    439.62   95.55   95.37   95.74    0.96\n",
            " 24     800        312.92    248.35   97.68   97.31   98.06    0.98\n",
            " 33    1000        176.31    241.77   97.87   97.68   98.06    0.98\n",
            " 45    1200        206.13    233.43   97.90   96.60   99.22    0.98\n",
            " 60    1400        230.82    252.18   98.44   99.21   97.67    0.98\n",
            " 78    1600        217.52    240.81   98.46   98.08   98.84    0.98\n",
            "100    1800        221.73    274.57   98.46   98.08   98.84    0.98\n",
            "127    2000        123.82    308.97   98.46   98.08   98.84    0.98\n",
            "161    2200        101.13    334.02   98.44   98.83   98.06    0.98\n",
            "201    2400        144.56    375.83   98.45   98.45   98.45    0.98\n",
            "241    2600         97.87    374.44   98.46   98.08   98.84    0.98\n",
            "281    2800         82.93    366.56   98.44   98.83   98.06    0.98\n",
            "321    3000         77.30    348.35   98.46   97.71   99.22    0.98\n",
            "361    3200         67.38    349.77   98.45   98.45   98.45    0.98\n",
            "401    3400         81.66    354.42   98.46   98.08   98.84    0.98\n",
            "441    3600        174.45    332.96   98.46   98.08   98.84    0.98\n",
            "481    3800         77.92    340.22   98.46   97.71   99.22    0.98\n",
            "521    4000         77.11    348.75   98.44   98.83   98.06    0.98\n",
            "561    4200        163.21    343.52   98.43   99.60   97.29    0.98\n",
            "601    4400        131.70    347.49   98.45   98.45   98.45    0.98\n",
            "641    4600         85.39    339.33   98.44   99.21   97.67    0.98\n",
            "\u001b[38;5;2m✔ Saved pipeline to output directory\u001b[0m\n",
            "model-last\n"
          ]
        }
      ]
    },
    {
      "cell_type": "code",
      "source": [
        "nlp_ner = spacy.load(\"/content/model-best\")"
      ],
      "metadata": {
        "id": "s8UIhxKRw-JY"
      },
      "execution_count": null,
      "outputs": []
    },
    {
      "cell_type": "code",
      "source": [
        "doc = nlp_ner('''There is a challenge of food in Uganda. Gloria goes to Kyambogo University. She knows programming in HTML and CSS. Prof. Twinomujuni sent the team in Isingiro some 100 USD. Students will bbe leaving the University on Friday September 20.They will graduate in 2023. Uganda has many parts that is the north, east, west and south. Uganda receives aid from countries like USA, Germany, India, China. Rose lives in Muyenga''')"
      ],
      "metadata": {
        "id": "tCdhaiYExvCK"
      },
      "execution_count": null,
      "outputs": []
    },
    {
      "cell_type": "code",
      "source": [
        "spacy.displacy.render(doc, style=\"ent\", jupyter=True) # display in Jupyter"
      ],
      "metadata": {
        "colab": {
          "base_uri": "https://localhost:8080/",
          "height": 157
        },
        "id": "szjsGGZk8dvQ",
        "outputId": "f2800f57-375a-4ab8-c217-ce73afa35b82"
      },
      "execution_count": null,
      "outputs": [
        {
          "output_type": "display_data",
          "data": {
            "text/plain": [
              "<IPython.core.display.HTML object>"
            ],
            "text/html": [
              "<span class=\"tex2jax_ignore\"><div class=\"entities\" style=\"line-height: 2.5; direction: ltr\">There is a challenge of food in \n",
              "<mark class=\"entity\" style=\"background: #feca74; padding: 0.45em 0.6em; margin: 0 0.25em; line-height: 1; border-radius: 0.35em;\">\n",
              "    Uganda.\n",
              "    <span style=\"font-size: 0.8em; font-weight: bold; line-height: 1; border-radius: 0.35em; vertical-align: middle; margin-left: 0.5rem\">GPE</span>\n",
              "</mark>\n",
              " \n",
              "<mark class=\"entity\" style=\"background: #aa9cfc; padding: 0.45em 0.6em; margin: 0 0.25em; line-height: 1; border-radius: 0.35em;\">\n",
              "    Gloria\n",
              "    <span style=\"font-size: 0.8em; font-weight: bold; line-height: 1; border-radius: 0.35em; vertical-align: middle; margin-left: 0.5rem\">PERSON</span>\n",
              "</mark>\n",
              " goes to \n",
              "<mark class=\"entity\" style=\"background: #ddd; padding: 0.45em 0.6em; margin: 0 0.25em; line-height: 1; border-radius: 0.35em;\">\n",
              "    Kyambogo University.\n",
              "    <span style=\"font-size: 0.8em; font-weight: bold; line-height: 1; border-radius: 0.35em; vertical-align: middle; margin-left: 0.5rem\">INSTITUITIONS</span>\n",
              "</mark>\n",
              " She knows programming in \n",
              "<mark class=\"entity\" style=\"background: #ddd; padding: 0.45em 0.6em; margin: 0 0.25em; line-height: 1; border-radius: 0.35em;\">\n",
              "    HTML\n",
              "    <span style=\"font-size: 0.8em; font-weight: bold; line-height: 1; border-radius: 0.35em; vertical-align: middle; margin-left: 0.5rem\">REGION</span>\n",
              "</mark>\n",
              " and \n",
              "<mark class=\"entity\" style=\"background: #ddd; padding: 0.45em 0.6em; margin: 0 0.25em; line-height: 1; border-radius: 0.35em;\">\n",
              "    CSS\n",
              "    <span style=\"font-size: 0.8em; font-weight: bold; line-height: 1; border-radius: 0.35em; vertical-align: middle; margin-left: 0.5rem\">APPLICATIONS</span>\n",
              "</mark>\n",
              ". Prof. \n",
              "<mark class=\"entity\" style=\"background: #aa9cfc; padding: 0.45em 0.6em; margin: 0 0.25em; line-height: 1; border-radius: 0.35em;\">\n",
              "    Twinomujuni\n",
              "    <span style=\"font-size: 0.8em; font-weight: bold; line-height: 1; border-radius: 0.35em; vertical-align: middle; margin-left: 0.5rem\">PERSON</span>\n",
              "</mark>\n",
              " sent the team in \n",
              "<mark class=\"entity\" style=\"background: #ddd; padding: 0.45em 0.6em; margin: 0 0.25em; line-height: 1; border-radius: 0.35em;\">\n",
              "    Isingiro\n",
              "    <span style=\"font-size: 0.8em; font-weight: bold; line-height: 1; border-radius: 0.35em; vertical-align: middle; margin-left: 0.5rem\">LOCATION</span>\n",
              "</mark>\n",
              " some \n",
              "<mark class=\"entity\" style=\"background: #ddd; padding: 0.45em 0.6em; margin: 0 0.25em; line-height: 1; border-radius: 0.35em;\">\n",
              "    100 USD.\n",
              "    <span style=\"font-size: 0.8em; font-weight: bold; line-height: 1; border-radius: 0.35em; vertical-align: middle; margin-left: 0.5rem\">PERCENTAGE</span>\n",
              "</mark>\n",
              " Students will bbe leaving the University on \n",
              "<mark class=\"entity\" style=\"background: #ddd; padding: 0.45em 0.6em; margin: 0 0.25em; line-height: 1; border-radius: 0.35em;\">\n",
              "    Friday\n",
              "    <span style=\"font-size: 0.8em; font-weight: bold; line-height: 1; border-radius: 0.35em; vertical-align: middle; margin-left: 0.5rem\">WEEK DAY</span>\n",
              "</mark>\n",
              " \n",
              "<mark class=\"entity\" style=\"background: #ddd; padding: 0.45em 0.6em; margin: 0 0.25em; line-height: 1; border-radius: 0.35em;\">\n",
              "    September\n",
              "    <span style=\"font-size: 0.8em; font-weight: bold; line-height: 1; border-radius: 0.35em; vertical-align: middle; margin-left: 0.5rem\">MONTH</span>\n",
              "</mark>\n",
              " \n",
              "<mark class=\"entity\" style=\"background: #ddd; padding: 0.45em 0.6em; margin: 0 0.25em; line-height: 1; border-radius: 0.35em;\">\n",
              "    20.They\n",
              "    <span style=\"font-size: 0.8em; font-weight: bold; line-height: 1; border-radius: 0.35em; vertical-align: middle; margin-left: 0.5rem\">YEAR</span>\n",
              "</mark>\n",
              " will graduate in \n",
              "<mark class=\"entity\" style=\"background: #ddd; padding: 0.45em 0.6em; margin: 0 0.25em; line-height: 1; border-radius: 0.35em;\">\n",
              "    2023.\n",
              "    <span style=\"font-size: 0.8em; font-weight: bold; line-height: 1; border-radius: 0.35em; vertical-align: middle; margin-left: 0.5rem\">YEAR</span>\n",
              "</mark>\n",
              " \n",
              "<mark class=\"entity\" style=\"background: #feca74; padding: 0.45em 0.6em; margin: 0 0.25em; line-height: 1; border-radius: 0.35em;\">\n",
              "    Uganda\n",
              "    <span style=\"font-size: 0.8em; font-weight: bold; line-height: 1; border-radius: 0.35em; vertical-align: middle; margin-left: 0.5rem\">GPE</span>\n",
              "</mark>\n",
              " has many parts that is the \n",
              "<mark class=\"entity\" style=\"background: #ddd; padding: 0.45em 0.6em; margin: 0 0.25em; line-height: 1; border-radius: 0.35em;\">\n",
              "    north\n",
              "    <span style=\"font-size: 0.8em; font-weight: bold; line-height: 1; border-radius: 0.35em; vertical-align: middle; margin-left: 0.5rem\">REGION</span>\n",
              "</mark>\n",
              ", east, west and \n",
              "<mark class=\"entity\" style=\"background: #feca74; padding: 0.45em 0.6em; margin: 0 0.25em; line-height: 1; border-radius: 0.35em;\">\n",
              "    south.\n",
              "    <span style=\"font-size: 0.8em; font-weight: bold; line-height: 1; border-radius: 0.35em; vertical-align: middle; margin-left: 0.5rem\">GPE</span>\n",
              "</mark>\n",
              " \n",
              "<mark class=\"entity\" style=\"background: #feca74; padding: 0.45em 0.6em; margin: 0 0.25em; line-height: 1; border-radius: 0.35em;\">\n",
              "    Uganda\n",
              "    <span style=\"font-size: 0.8em; font-weight: bold; line-height: 1; border-radius: 0.35em; vertical-align: middle; margin-left: 0.5rem\">GPE</span>\n",
              "</mark>\n",
              " receives aid from countries like USA, \n",
              "<mark class=\"entity\" style=\"background: #ddd; padding: 0.45em 0.6em; margin: 0 0.25em; line-height: 1; border-radius: 0.35em;\">\n",
              "    Germany\n",
              "    <span style=\"font-size: 0.8em; font-weight: bold; line-height: 1; border-radius: 0.35em; vertical-align: middle; margin-left: 0.5rem\">APPLICATIONS</span>\n",
              "</mark>\n",
              ", India, China. Rose lives in \n",
              "<mark class=\"entity\" style=\"background: #aa9cfc; padding: 0.45em 0.6em; margin: 0 0.25em; line-height: 1; border-radius: 0.35em;\">\n",
              "    Muyenga\n",
              "    <span style=\"font-size: 0.8em; font-weight: bold; line-height: 1; border-radius: 0.35em; vertical-align: middle; margin-left: 0.5rem\">PERSON</span>\n",
              "</mark>\n",
              "</div></span>"
            ]
          },
          "metadata": {}
        }
      ]
    },
    {
      "cell_type": "code",
      "source": [
        "doc = nlp_ner('''Students who live in Kikoni study from CONAS''')"
      ],
      "metadata": {
        "id": "DldyhKl1M8iW"
      },
      "execution_count": null,
      "outputs": []
    },
    {
      "cell_type": "code",
      "source": [
        "spacy.displacy.render(doc, style=\"ent\", jupyter=True) "
      ],
      "metadata": {
        "colab": {
          "base_uri": "https://localhost:8080/",
          "height": 52
        },
        "id": "oxhxr1cmK9Ku",
        "outputId": "ab743027-fc8f-46e2-8338-5e73006ced2c"
      },
      "execution_count": null,
      "outputs": [
        {
          "output_type": "display_data",
          "data": {
            "text/plain": [
              "<IPython.core.display.HTML object>"
            ],
            "text/html": [
              "<span class=\"tex2jax_ignore\"><div class=\"entities\" style=\"line-height: 2.5; direction: ltr\">Students who live in Kikoni study from \n",
              "<mark class=\"entity\" style=\"background: #7aecec; padding: 0.45em 0.6em; margin: 0 0.25em; line-height: 1; border-radius: 0.35em;\">\n",
              "    CONAS\n",
              "    <span style=\"font-size: 0.8em; font-weight: bold; line-height: 1; border-radius: 0.35em; vertical-align: middle; margin-left: 0.5rem\">ORG</span>\n",
              "</mark>\n",
              "</div></span>"
            ]
          },
          "metadata": {}
        }
      ]
    },
    {
      "cell_type": "code",
      "source": [
        "doc = nlp_ner('''Moses will finish his exams on 20th June''')"
      ],
      "metadata": {
        "id": "yVqx7uN2K-4j"
      },
      "execution_count": null,
      "outputs": []
    },
    {
      "cell_type": "code",
      "source": [
        "spacy.displacy.render(doc, style=\"ent\", jupyter=True) "
      ],
      "metadata": {
        "colab": {
          "base_uri": "https://localhost:8080/",
          "height": 52
        },
        "id": "Yo6c5-gKLOIE",
        "outputId": "e9b9b67b-a490-40ed-9108-bdb3135ea306"
      },
      "execution_count": null,
      "outputs": [
        {
          "output_type": "display_data",
          "data": {
            "text/plain": [
              "<IPython.core.display.HTML object>"
            ],
            "text/html": [
              "<span class=\"tex2jax_ignore\"><div class=\"entities\" style=\"line-height: 2.5; direction: ltr\">\n",
              "<mark class=\"entity\" style=\"background: #aa9cfc; padding: 0.45em 0.6em; margin: 0 0.25em; line-height: 1; border-radius: 0.35em;\">\n",
              "    Moses\n",
              "    <span style=\"font-size: 0.8em; font-weight: bold; line-height: 1; border-radius: 0.35em; vertical-align: middle; margin-left: 0.5rem\">PERSON</span>\n",
              "</mark>\n",
              " will finish his exams on \n",
              "<mark class=\"entity\" style=\"background: #ddd; padding: 0.45em 0.6em; margin: 0 0.25em; line-height: 1; border-radius: 0.35em;\">\n",
              "    20th\n",
              "    <span style=\"font-size: 0.8em; font-weight: bold; line-height: 1; border-radius: 0.35em; vertical-align: middle; margin-left: 0.5rem\">DAY</span>\n",
              "</mark>\n",
              " \n",
              "<mark class=\"entity\" style=\"background: #ddd; padding: 0.45em 0.6em; margin: 0 0.25em; line-height: 1; border-radius: 0.35em;\">\n",
              "    June\n",
              "    <span style=\"font-size: 0.8em; font-weight: bold; line-height: 1; border-radius: 0.35em; vertical-align: middle; margin-left: 0.5rem\">MONTH</span>\n",
              "</mark>\n",
              "</div></span>"
            ]
          },
          "metadata": {}
        }
      ]
    },
    {
      "cell_type": "code",
      "source": [
        "def evaluate(ner_model, doc):\n",
        "    scorer = Scorer()\n",
        "    example = []\n",
        "    for input_, annot in doc:\n",
        "        pred = ner_model(input_)\n",
        "        print(pred,annot)\n",
        "        temp = Example.from_dict(pred, dict.fromkeys(annot))\n",
        "        doc.append(temp)\n",
        "    scores = scorer.score(doc)\n",
        "    return scores"
      ],
      "metadata": {
        "id": "BCVJiN3CSzF4"
      },
      "execution_count": null,
      "outputs": []
    },
    {
      "cell_type": "code",
      "source": [
        "from spacy.scorer import Scorer\n",
        "from spacy.training.example import Example"
      ],
      "metadata": {
        "id": "_e-eAk0aTmVx"
      },
      "execution_count": null,
      "outputs": []
    },
    {
      "cell_type": "code",
      "source": [
        "def flat_accuracy(text, annotations):\n",
        "    actual_ents = [ents[2] for ents in annotations]\n",
        "    prediction = nlp_ner(text)\n",
        "    pred_ents = [ent.text for ent in prediction.ents]\n",
        "    return 1 if actual_ents == pred_ents else 0\n",
        "\n",
        "\n",
        "predict_points = sum(flat_accuracy(test_text[0], test_text[1]) for test_text in doc)\n",
        "output = (predict_points/len(dc)) * 100"
      ],
      "metadata": {
        "colab": {
          "base_uri": "https://localhost:8080/",
          "height": 332
        },
        "id": "n0PMl9JaTnru",
        "outputId": "45a17b4c-377c-4e1b-d53b-6f63dcf81541"
      },
      "execution_count": null,
      "outputs": [
        {
          "output_type": "error",
          "ename": "TypeError",
          "evalue": "ignored",
          "traceback": [
            "\u001b[0;31m---------------------------------------------------------------------------\u001b[0m",
            "\u001b[0;31mTypeError\u001b[0m                                 Traceback (most recent call last)",
            "\u001b[0;32m<ipython-input-19-a2d08f6fbb46>\u001b[0m in \u001b[0;36m<module>\u001b[0;34m\u001b[0m\n\u001b[1;32m      6\u001b[0m \u001b[0;34m\u001b[0m\u001b[0m\n\u001b[1;32m      7\u001b[0m \u001b[0;34m\u001b[0m\u001b[0m\n\u001b[0;32m----> 8\u001b[0;31m \u001b[0mpredict_points\u001b[0m \u001b[0;34m=\u001b[0m \u001b[0msum\u001b[0m\u001b[0;34m(\u001b[0m\u001b[0mflat_accuracy\u001b[0m\u001b[0;34m(\u001b[0m\u001b[0mtest_text\u001b[0m\u001b[0;34m[\u001b[0m\u001b[0;36m0\u001b[0m\u001b[0;34m]\u001b[0m\u001b[0;34m,\u001b[0m \u001b[0mtest_text\u001b[0m\u001b[0;34m[\u001b[0m\u001b[0;36m1\u001b[0m\u001b[0;34m]\u001b[0m\u001b[0;34m)\u001b[0m \u001b[0;32mfor\u001b[0m \u001b[0mtest_text\u001b[0m \u001b[0;32min\u001b[0m \u001b[0mdoc\u001b[0m\u001b[0;34m)\u001b[0m\u001b[0;34m\u001b[0m\u001b[0;34m\u001b[0m\u001b[0m\n\u001b[0m\u001b[1;32m      9\u001b[0m \u001b[0moutput\u001b[0m \u001b[0;34m=\u001b[0m \u001b[0;34m(\u001b[0m\u001b[0mpredict_points\u001b[0m\u001b[0;34m/\u001b[0m\u001b[0mlen\u001b[0m\u001b[0;34m(\u001b[0m\u001b[0mdc\u001b[0m\u001b[0;34m)\u001b[0m\u001b[0;34m)\u001b[0m \u001b[0;34m*\u001b[0m \u001b[0;36m100\u001b[0m\u001b[0;34m\u001b[0m\u001b[0;34m\u001b[0m\u001b[0m\n",
            "\u001b[0;32m<ipython-input-19-a2d08f6fbb46>\u001b[0m in \u001b[0;36m<genexpr>\u001b[0;34m(.0)\u001b[0m\n\u001b[1;32m      6\u001b[0m \u001b[0;34m\u001b[0m\u001b[0m\n\u001b[1;32m      7\u001b[0m \u001b[0;34m\u001b[0m\u001b[0m\n\u001b[0;32m----> 8\u001b[0;31m \u001b[0mpredict_points\u001b[0m \u001b[0;34m=\u001b[0m \u001b[0msum\u001b[0m\u001b[0;34m(\u001b[0m\u001b[0mflat_accuracy\u001b[0m\u001b[0;34m(\u001b[0m\u001b[0mtest_text\u001b[0m\u001b[0;34m[\u001b[0m\u001b[0;36m0\u001b[0m\u001b[0;34m]\u001b[0m\u001b[0;34m,\u001b[0m \u001b[0mtest_text\u001b[0m\u001b[0;34m[\u001b[0m\u001b[0;36m1\u001b[0m\u001b[0;34m]\u001b[0m\u001b[0;34m)\u001b[0m \u001b[0;32mfor\u001b[0m \u001b[0mtest_text\u001b[0m \u001b[0;32min\u001b[0m \u001b[0mdoc\u001b[0m\u001b[0;34m)\u001b[0m\u001b[0;34m\u001b[0m\u001b[0;34m\u001b[0m\u001b[0m\n\u001b[0m\u001b[1;32m      9\u001b[0m \u001b[0moutput\u001b[0m \u001b[0;34m=\u001b[0m \u001b[0;34m(\u001b[0m\u001b[0mpredict_points\u001b[0m\u001b[0;34m/\u001b[0m\u001b[0mlen\u001b[0m\u001b[0;34m(\u001b[0m\u001b[0mdc\u001b[0m\u001b[0;34m)\u001b[0m\u001b[0;34m)\u001b[0m \u001b[0;34m*\u001b[0m \u001b[0;36m100\u001b[0m\u001b[0;34m\u001b[0m\u001b[0;34m\u001b[0m\u001b[0m\n",
            "\u001b[0;31mTypeError\u001b[0m: 'spacy.tokens.token.Token' object is not subscriptable"
          ]
        }
      ]
    }
  ]
}